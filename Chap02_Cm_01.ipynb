{
  "nbformat": 4,
  "nbformat_minor": 0,
  "metadata": {
    "colab": {
      "provenance": [],
      "toc_visible": true,
      "authorship_tag": "ABX9TyMF0UpGdjZi5gdGdlgr+8as",
      "include_colab_link": true
    },
    "kernelspec": {
      "name": "python3",
      "display_name": "Python 3"
    },
    "language_info": {
      "name": "python"
    }
  },
  "cells": [
    {
      "cell_type": "markdown",
      "metadata": {
        "id": "view-in-github",
        "colab_type": "text"
      },
      "source": [
        "<a href=\"https://colab.research.google.com/github/niedakaito/EU_M_Math/blob/main/Chap02_Cm_01.ipynb\" target=\"_parent\"><img src=\"https://colab.research.google.com/assets/colab-badge.svg\" alt=\"Open In Colab\"/></a>"
      ]
    },
    {
      "cell_type": "markdown",
      "source": [
        "# 総合問題2-1"
      ],
      "metadata": {
        "id": "Tq4qNMqG57N_"
      }
    },
    {
      "cell_type": "code",
      "execution_count": 12,
      "metadata": {
        "colab": {
          "base_uri": "https://localhost:8080/"
        },
        "id": "Yzz3lU0_52O2",
        "outputId": "fc054c53-ac00-4224-cc5c-993e591f8078"
      },
      "outputs": [
        {
          "output_type": "stream",
          "name": "stdout",
          "text": [
            "[0.90631496 0.89868939 0.01951921 ... 0.79844893 0.56555084 0.66423077]\n",
            "[0.29844723 0.75673307 0.26604191 ... 0.98400735 0.64889526 0.97943447]\n"
          ]
        }
      ],
      "source": [
        "import numpy as np\n",
        "\n",
        "# ランダムな一様分布を生成\n",
        "random_numbers1 = np.random.uniform(0.0, 1.0, 10000)\n",
        "random_numbers2 = np.random.uniform(0.0, 1.0, 10000)\n",
        "\n",
        "print(random_numbers1)\n",
        "print(random_numbers2)"
      ]
    }
  ]
}