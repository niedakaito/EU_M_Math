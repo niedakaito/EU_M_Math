{
  "nbformat": 4,
  "nbformat_minor": 0,
  "metadata": {
    "colab": {
      "provenance": [],
      "toc_visible": true,
      "authorship_tag": "ABX9TyPWzAwwZhzwRvT0sxLs/IiW",
      "include_colab_link": true
    },
    "kernelspec": {
      "name": "python3",
      "display_name": "Python 3"
    },
    "language_info": {
      "name": "python"
    }
  },
  "cells": [
    {
      "cell_type": "markdown",
      "metadata": {
        "id": "view-in-github",
        "colab_type": "text"
      },
      "source": [
        "<a href=\"https://colab.research.google.com/github/niedakaito/EU_M_Math/blob/main/Chap02_3_example.ipynb\" target=\"_parent\"><img src=\"https://colab.research.google.com/assets/colab-badge.svg\" alt=\"Open In Colab\"/></a>"
      ]
    },
    {
      "cell_type": "markdown",
      "source": [
        "# 2-3 Scipyの基礎"
      ],
      "metadata": {
        "id": "iqQG3AS13f35"
      }
    },
    {
      "cell_type": "code",
      "execution_count": 4,
      "metadata": {
        "colab": {
          "base_uri": "https://localhost:8080/"
        },
        "id": "JejT9C8hyUQZ",
        "outputId": "be54606a-5fbc-4e9f-83f5-f015ea24b738"
      },
      "outputs": [
        {
          "output_type": "stream",
          "name": "stdout",
          "text": [
            "行列式\n",
            "-4.0\n",
            "\n",
            "\n",
            "逆行列\n",
            "[[ 0.  -0.5 -0.5]\n",
            " [-0.5 -0.  -0.5]\n",
            " [-0.5 -0.5  0. ]]\n",
            "\n",
            "\n",
            "固有値\n",
            "[-1.+0.j  2.+0.j  2.+0.j]\n",
            "固有ベクトル\n",
            "[[ 0.577  0.816  0.408]\n",
            " [ 0.577 -0.408 -0.816]\n",
            " [ 0.577 -0.408  0.408]]\n",
            "\n",
            "\n",
            "-0.9999999852953906\n",
            "\n",
            "\n",
            " message: \n",
            "          Optimization terminated successfully;\n",
            "          The returned value satisfies the termination criteria\n",
            "          (using xtol = 1.48e-08 )\n",
            " success: True\n",
            "     fun: 0.0\n",
            "       x: -1.0000000000000002\n",
            "     nit: 4\n",
            "    nfev: 8\n"
          ]
        }
      ],
      "source": [
        "import numpy as np\n",
        "%precision 3\n",
        "\n",
        "\n",
        "# 線形代数用のライブラリ\n",
        "import scipy.linalg as linalg\n",
        "\n",
        "# 最適化計算（最小値）用の関数\n",
        "from scipy.optimize import minimize_scalar\n",
        "\n",
        "\n",
        "matrix = np.array([[1, -1, -1], [-1, 1, -1], [-1, -1, 1]])\n",
        "\n",
        "# 行列式\n",
        "print('行列式')\n",
        "print(linalg.det(matrix))\n",
        "print('\\n')\n",
        "\n",
        "# 逆行列\n",
        "print('逆行列')\n",
        "print(linalg.inv(matrix))\n",
        "print('\\n')\n",
        "\n",
        "\n",
        "# 固有値と固有ベクトル\n",
        "eig_value, eig_vector = linalg.eig(matrix)\n",
        "\n",
        "# 固有値と固有ベクトル\n",
        "print('固有値')\n",
        "print(eig_value)\n",
        "print('固有ベクトル')\n",
        "print(eig_vector)\n",
        "print('\\n')\n",
        "\n",
        "\n",
        "# 関数の定義\n",
        "def my_functiom(x):\n",
        "  return (x**2 + 2*x + 1)\n",
        "\n",
        "# ニュートン法の読み込み\n",
        "from scipy.optimize import newton\n",
        "\n",
        "# 計算実行\n",
        "print(newton(my_functiom,0))\n",
        "print('\\n')\n",
        "\n",
        "\n",
        "# 計算の実行\n",
        "print(minimize_scalar(my_functiom, method = 'Brent'))"
      ]
    }
  ]
}