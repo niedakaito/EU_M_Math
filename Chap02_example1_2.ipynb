{
  "nbformat": 4,
  "nbformat_minor": 0,
  "metadata": {
    "colab": {
      "provenance": [],
      "toc_visible": true,
      "authorship_tag": "ABX9TyNWuvwmLbcALHp9oF1gq005",
      "include_colab_link": true
    },
    "kernelspec": {
      "name": "python3",
      "display_name": "Python 3"
    },
    "language_info": {
      "name": "python"
    }
  },
  "cells": [
    {
      "cell_type": "markdown",
      "metadata": {
        "id": "view-in-github",
        "colab_type": "text"
      },
      "source": [
        "<a href=\"https://colab.research.google.com/github/niedakaito/EU_M_Math/blob/main/Chap02_example1_2.ipynb\" target=\"_parent\"><img src=\"https://colab.research.google.com/assets/colab-badge.svg\" alt=\"Open In Colab\"/></a>"
      ]
    },
    {
      "cell_type": "code",
      "execution_count": 8,
      "metadata": {
        "id": "6qb0FuIPioO3",
        "colab": {
          "base_uri": "https://localhost:8080/"
        },
        "outputId": "d284e578-ec21-41cf-c6b9-1851801fc4c3"
      },
      "outputs": [
        {
          "output_type": "stream",
          "name": "stdout",
          "text": [
            "0.14285714285714285\n"
          ]
        },
        {
          "output_type": "execute_result",
          "data": {
            "text/plain": [
              "0.143"
            ]
          },
          "metadata": {},
          "execution_count": 8
        }
      ],
      "source": [
        "# Numpy ライブラリの読み込み\n",
        "import numpy as np\n",
        "\n",
        "a = 1/7\n",
        "print(a)\n",
        "\n",
        "# 小数第3位まで表示という意味\n",
        "%precision 3\n",
        "\n",
        "b = 1/7\n",
        "desp(b)"
      ]
    }
  ]
}