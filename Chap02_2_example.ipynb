{
  "nbformat": 4,
  "nbformat_minor": 0,
  "metadata": {
    "colab": {
      "provenance": [],
      "toc_visible": true,
      "authorship_tag": "ABX9TyOMXl8gxaxWibJNvjd1iv8l",
      "include_colab_link": true
    },
    "kernelspec": {
      "name": "python3",
      "display_name": "Python 3"
    },
    "language_info": {
      "name": "python"
    }
  },
  "cells": [
    {
      "cell_type": "markdown",
      "metadata": {
        "id": "view-in-github",
        "colab_type": "text"
      },
      "source": [
        "<a href=\"https://colab.research.google.com/github/niedakaito/EU_M_Math/blob/main/Chap02_2_example.ipynb\" target=\"_parent\"><img src=\"https://colab.research.google.com/assets/colab-badge.svg\" alt=\"Open In Colab\"/></a>"
      ]
    },
    {
      "cell_type": "markdown",
      "source": [
        "# 2-1-3 この章で使うライブラリのインポート"
      ],
      "metadata": {
        "id": "1QYsMVgiDkc0"
      }
    },
    {
      "cell_type": "code",
      "source": [
        "import numpy as np\n",
        "import numpy.random as random\n",
        "import scipy as sp\n",
        "import pandas as pd\n",
        "from pandas import Series, DataFrame\n",
        "\n",
        "import matplotlib.pyplot as plt\n",
        "import matplotlib as mpl\n",
        "import seaborn as sns\n",
        "%matplotlib inline\n",
        "\n",
        "# 小数第3位まで表示という意味\n",
        "%precision 3"
      ],
      "metadata": {
        "id": "RTEdfb9-DvnR",
        "outputId": "8d8be9dc-96b3-4d02-f774-e1b97078a768",
        "colab": {
          "base_uri": "https://localhost:8080/",
          "height": 36
        }
      },
      "execution_count": null,
      "outputs": [
        {
          "output_type": "execute_result",
          "data": {
            "text/plain": [
              "'%.3f'"
            ],
            "application/vnd.google.colaboratory.intrinsic+json": {
              "type": "string"
            }
          },
          "metadata": {},
          "execution_count": 24
        }
      ]
    },
    {
      "cell_type": "markdown",
      "source": [
        "# 2-2-2 配列操作"
      ],
      "metadata": {
        "id": "nkqAhK_hkcQ9"
      }
    },
    {
      "cell_type": "code",
      "source": [
        "# 配列の作成\n",
        "data = np.array([9, 2, 3, 4, 10, 6, 7, 8, 1, 5])\n",
        "display(data)\n",
        "print('\\n')\n",
        "\n",
        "\n",
        "# データの型\n",
        "display(data.dtype)\n",
        "print('\\n')\n",
        "\n",
        "\n",
        "print('次元数：', data.ndim)\n",
        "print('要素数：', data.size)\n",
        "print('\\n')\n",
        "\n",
        "\n",
        "# それぞれの数字を係数倍\n",
        "display(data*2)\n",
        "print('\\n')\n",
        "\n",
        "\n",
        "print('掛け算：', np.array([1, 2, 3, 4, 5, 6, 7, 8, 9, 10]) * np.array([10, 9, 8, 7, 6, 5, 4, 3, 2, 1]))\n",
        "print('累乗：', np.array([1, 2, 3, 4, 5, 6, 7, 8, 9, 10]) ** 2)\n",
        "print('割り算：', np.array([1, 2, 3, 4, 5, 6, 7, 8, 9, 10]) / np.array([10, 9, 8, 7, 6, 5, 4, 3, 2, 1]))\n",
        "print('\\n')\n",
        "\n",
        "\n",
        "# 現在の値を表示\n",
        "print('そのまま：', data)\n",
        "# ソートした結果を表示\n",
        "data.sort()\n",
        "print('ソート後：', data)\n",
        "print('\\n')\n",
        "\n",
        "\n",
        "data[::-1].sort()\n",
        "print('ソート後：', data)\n",
        "print('\\n')\n",
        "\n",
        "\n",
        "# 最小値\n",
        "print('Min：', data.min())\n",
        "# 最大値\n",
        "print('Max：', data.max())\n",
        "# 合計\n",
        "print('Sum：', data.sum())\n",
        "# 積み上げ\n",
        "print('Cum：', data.cumsum())\n",
        "# 積み上げ割合\n",
        "print('Ratio：', data.cumsum() / data.sum())\n",
        "print('\\n')\n",
        "\n",
        "\n",
        "random.seed(0)\n",
        "# 正規分布（平均0、分散1）の乱数を10個発生\n",
        "rnd_data = random.randn(10)\n",
        "print('乱数10個の配列：', rnd_data)\n",
        "print('\\n')\n",
        "\n",
        "\n",
        "# ランダム抽出\n",
        "print('10個を抽出（重複有、復元抽出）:', random.choice(data, 10))\n",
        "print('10個を抽出（重複無、非復元抽出）：', random.choice(data, 10, replace = False))\n",
        "print('\\n')\n",
        "\n",
        "\n",
        "# Nは乱数の発生数、10の6乗\n",
        "N = 10**6\n",
        "print('\\n')\n",
        "\n",
        "\n",
        "# Python版（以下のrange(N)は0からN-1までの整数を用意しています。\n",
        "# 「_」は代入した値を参照しないときに使う慣例的な変数名です。\n",
        "# 例えば、for a in range(N)ト書くのと同じですが、aと書くと、\n",
        "# そのあとでを後で使うように見えるので、その値を参照しないときは、\n",
        "# for _ in range(N)のように慣例的に書く書き方です。\n",
        "normal_data = [random.random() for _ in range(N)]\n",
        "\n",
        "# Numpy版\n",
        "numpy_random_data = np.array(normal_data)\n",
        "\n",
        "# calc time : 合計値\n",
        "# 普通の処理\n",
        "%timeit sum(normal_data)\n",
        "\n",
        "# Numpyを使った処理\n",
        "%timeit np.sum(numpy_random_data)\n",
        "print('\\n')\n",
        "\n",
        "\n",
        "print('連続した整数（0-8）:', np.arange(9))\n",
        "print('\\n')\n",
        "\n",
        "\n",
        "array1 = np.arange(9).reshape(3, 3)\n",
        "print(array1)\n",
        "print('\\n')\n",
        "\n",
        "print('1行目:', array1[0, :])\n",
        "print('1列目：', array1[:, 0])\n",
        "print('\\n')\n",
        "\n",
        "array2 = np.arange(9, 18).reshape(3,3)\n",
        "print(array2)\n",
        "print('\\n')\n",
        "\n",
        "\n",
        "print('行列の積：', np.dot(array1, array2))\n",
        "print('要素同士の積：', array1 * array2)\n",
        "print('\\n')\n",
        "\n",
        "\n",
        "print(np.zeros((2, 3), dtype = np.int64))\n",
        "print(np.ones((2, 3), dtype = np.int64))"
      ],
      "metadata": {
        "id": "zJO8qfCZkoEC",
        "outputId": "8d42dfee-2056-4972-8f44-330a68abee31",
        "colab": {
          "base_uri": "https://localhost:8080/",
          "height": 1000
        }
      },
      "execution_count": null,
      "outputs": [
        {
          "output_type": "display_data",
          "data": {
            "text/plain": [
              "array([ 9,  2,  3,  4, 10,  6,  7,  8,  1,  5])"
            ]
          },
          "metadata": {}
        },
        {
          "output_type": "stream",
          "name": "stdout",
          "text": [
            "\n",
            "\n"
          ]
        },
        {
          "output_type": "display_data",
          "data": {
            "text/plain": [
              "dtype('int64')"
            ]
          },
          "metadata": {}
        },
        {
          "output_type": "stream",
          "name": "stdout",
          "text": [
            "\n",
            "\n",
            "次元数： 1\n",
            "要素数： 10\n",
            "\n",
            "\n"
          ]
        },
        {
          "output_type": "display_data",
          "data": {
            "text/plain": [
              "array([18,  4,  6,  8, 20, 12, 14, 16,  2, 10])"
            ]
          },
          "metadata": {}
        },
        {
          "output_type": "stream",
          "name": "stdout",
          "text": [
            "\n",
            "\n",
            "掛け算： [10 18 24 28 30 30 28 24 18 10]\n",
            "累乗： [  1   4   9  16  25  36  49  64  81 100]\n",
            "割り算： [ 0.1    0.222  0.375  0.571  0.833  1.2    1.75   2.667  4.5   10.   ]\n",
            "\n",
            "\n",
            "そのまま： [ 9  2  3  4 10  6  7  8  1  5]\n",
            "ソート後： [ 1  2  3  4  5  6  7  8  9 10]\n",
            "\n",
            "\n",
            "ソート後： [10  9  8  7  6  5  4  3  2  1]\n",
            "\n",
            "\n",
            "Min： 1\n",
            "Max： 10\n",
            "Sum： 55\n",
            "Cum： [10 19 27 34 40 45 49 52 54 55]\n",
            "Ratio： [0.182 0.345 0.491 0.618 0.727 0.818 0.891 0.945 0.982 1.   ]\n",
            "\n",
            "\n",
            "乱数10個の配列： [ 1.764  0.4    0.979  2.241  1.868 -0.977  0.95  -0.151 -0.103  0.411]\n",
            "\n",
            "\n",
            "10個を抽出（重複有、復元抽出）: [4 3 3 2 9 5 1 2 1 6]\n",
            "10個を抽出（重複無、非復元抽出）： [ 6  9  4  3  8  2  5  1 10  7]\n",
            "\n",
            "\n",
            "\n",
            "\n",
            "7.48 ms ± 1.35 ms per loop (mean ± std. dev. of 7 runs, 100 loops each)\n",
            "362 µs ± 7.93 µs per loop (mean ± std. dev. of 7 runs, 1000 loops each)\n",
            "\n",
            "\n",
            "連続した整数（0-8）: [0 1 2 3 4 5 6 7 8]\n",
            "\n",
            "\n",
            "[[0 1 2]\n",
            " [3 4 5]\n",
            " [6 7 8]]\n",
            "\n",
            "\n",
            "1行目: [0 1 2]\n",
            "1列目： [0 3 6]\n",
            "\n",
            "\n",
            "[[ 9 10 11]\n",
            " [12 13 14]\n",
            " [15 16 17]]\n",
            "\n",
            "\n",
            "行列の積： [[ 42  45  48]\n",
            " [150 162 174]\n",
            " [258 279 300]]\n",
            "要素同士の積： [[  0  10  22]\n",
            " [ 36  52  70]\n",
            " [ 90 112 136]]\n",
            "\n",
            "\n",
            "[[0 0 0]\n",
            " [0 0 0]]\n",
            "[[1 1 1]\n",
            " [1 1 1]]\n"
          ]
        }
      ]
    }
  ]
}