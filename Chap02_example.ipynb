{
  "nbformat": 4,
  "nbformat_minor": 0,
  "metadata": {
    "colab": {
      "provenance": [],
      "toc_visible": true,
      "authorship_tag": "ABX9TyOQNlYO5be3IS+K4KxN8qSd",
      "include_colab_link": true
    },
    "kernelspec": {
      "name": "python3",
      "display_name": "Python 3"
    },
    "language_info": {
      "name": "python"
    }
  },
  "cells": [
    {
      "cell_type": "markdown",
      "metadata": {
        "id": "view-in-github",
        "colab_type": "text"
      },
      "source": [
        "<a href=\"https://colab.research.google.com/github/niedakaito/EU_M_Math/blob/main/Chap02_example.ipynb\" target=\"_parent\"><img src=\"https://colab.research.google.com/assets/colab-badge.svg\" alt=\"Open In Colab\"/></a>"
      ]
    },
    {
      "cell_type": "markdown",
      "source": [
        "# 新しいセクション"
      ],
      "metadata": {
        "id": "1QYsMVgiDkc0"
      }
    },
    {
      "cell_type": "code",
      "source": [],
      "metadata": {
        "id": "RTEdfb9-DvnR"
      },
      "execution_count": null,
      "outputs": []
    },
    {
      "cell_type": "markdown",
      "source": [
        "# 新しいセクション"
      ],
      "metadata": {
        "id": "8k0p8ugODugd"
      }
    },
    {
      "cell_type": "code",
      "execution_count": null,
      "metadata": {
        "colab": {
          "base_uri": "https://localhost:8080/"
        },
        "id": "LNrJ1JKspcQS",
        "outputId": "8ad01f67-bcf2-4bdc-a6ea-cd52182bc66e"
      },
      "outputs": [
        {
          "output_type": "stream",
          "name": "stdout",
          "text": [
            "[[0 0 0]\n",
            " [0 0 0]]\n",
            "[[1 1 1]\n",
            " [1 1 1]]\n"
          ]
        }
      ],
      "source": [
        "%precision 3\n",
        "\n",
        "\n",
        "import numpy as np\n",
        "\n",
        "# 配列の作成\n",
        "data = np.array([9, 2, 3, 4, 10, 6, 7, 8, 1, 5])\n",
        "# data\n",
        "\n",
        "\n",
        "# データの型\n",
        "# data.dtype\n",
        "\n",
        "\n",
        "# print('次元数：', data.ndim)\n",
        "# print('要素数：', data.size)\n",
        "\n",
        "\n",
        "# それぞれの数字を係数倍\n",
        "# data*2\n",
        "\n",
        "\n",
        "# print('掛け算：', np.array([1, 2, 3, 4, 5, 6, 7, 8, 9, 10]) * np.array([10, 9, 8, 7, 6, 5, 4, 3, 2, 1]))\n",
        "# print('累乗：', np.array([1, 2, 3, 4, 5, 6, 7, 8, 9, 10]) ** 2)\n",
        "# print('割り算：', np.array([1, 2, 3, 4, 5, 6, 7, 8, 9, 10]) / np.array([10, 9, 8, 7, 6, 5, 4, 3, 2, 1]))\n",
        "\n",
        "\n",
        "# 現在の値を表示\n",
        "# print('そのまま：', data)\n",
        "# ソートした結果を表示\n",
        "# data.sort()\n",
        "# print('ソート後：', data)\n",
        "\n",
        "\n",
        "# data[::-1].sort()\n",
        "# print('ソート後：', data)\n",
        "\n",
        "\n",
        "# 最小値\n",
        "# print('Min：', data.min())\n",
        "# 最大値\n",
        "# print('Max：', data.max())\n",
        "# 合計\n",
        "# print('Sum：', data.sum())\n",
        "# 積み上げ\n",
        "# print('Cum：', data.cumsum())\n",
        "# 積み上げ割合\n",
        "# print('Ratio：', data.cumsum() / data.sum())\n",
        "\n",
        "\n",
        "import numpy.random as random\n",
        "random.seed(0)\n",
        "# 正規分布（平均0、分散1）の乱数を10個発生\n",
        "# rnd_data = random.randn(10)\n",
        "# print('乱数10個の配列：', rnd_data)\n",
        "\n",
        "\n",
        "# ランダム抽出\n",
        "# 10個を抽出（重複有、復元抽出）\n",
        "# print(random.choice(data, 10))\n",
        "\n",
        "# 10個を抽出（重複無、非復元抽出）\n",
        "# print(random.choice(data, 10, replace = False))\n",
        "\n",
        "\n",
        "# Nは乱数の発生数、10の6乗\n",
        "N = 10**6\n",
        "\n",
        "# Python版（以下のrange(N)は0からN-1までの整数を用意しています。\n",
        "# 「_」は代入した値を参照しないときに使う慣例的な変数名です。\n",
        "# 例えば、for a in range(N)ト書くのと同じですが、aと書くと、\n",
        "# そのあとでを後で使うように見えるので、その値を参照しないときは、\n",
        "# for _ in range(N)のように慣例的に書く書き方です。\n",
        "# normal_data = [random.random() for _ in range(N)]\n",
        "\n",
        "# Numpy版\n",
        "# numpy_random_data = np.array(normal_data)\n",
        "\n",
        "# calc time : 合計\n",
        "# 普通の処理\n",
        "# %timeit sum(normal_data)\n",
        "\n",
        "# Numpyを使った処理\n",
        "# %timeit np.sum(numpy_random_data)\n",
        "\n",
        "\n",
        "# np.arange(9)\n",
        "\n",
        "array1 = np.arange(9).reshape(3, 3)\n",
        "# print(array1)\n",
        "\n",
        "# 1行目\n",
        "# array1[0, :]\n",
        "\n",
        "# 1列目\n",
        "# array1[:, 0]\n",
        "\n",
        "\n",
        "array2 = np.arange(9, 18).reshape(3,3)\n",
        "# print(array2)\n",
        "\n",
        "# 行列の積\n",
        "# np.dot(array1, array2)\n",
        "\n",
        "# 要素同士の積\n",
        "# array1 * array2\n",
        "\n",
        "print(np.zeros((2, 3), dtype = np.int64))\n",
        "print(np.ones((2, 3), dtype = np.int64))"
      ]
    }
  ]
}