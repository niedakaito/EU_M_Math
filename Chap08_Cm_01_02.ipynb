{
  "nbformat": 4,
  "nbformat_minor": 0,
  "metadata": {
    "colab": {
      "provenance": [],
      "toc_visible": true,
      "authorship_tag": "ABX9TyMjfTFUmIgv5uPkVQa0SkEK",
      "include_colab_link": true
    },
    "kernelspec": {
      "name": "python3",
      "display_name": "Python 3"
    },
    "language_info": {
      "name": "python"
    }
  },
  "cells": [
    {
      "cell_type": "markdown",
      "metadata": {
        "id": "view-in-github",
        "colab_type": "text"
      },
      "source": [
        "<a href=\"https://colab.research.google.com/github/niedakaito/EU_M_Math/blob/main/Chap08_Cm_01_02.ipynb\" target=\"_parent\"><img src=\"https://colab.research.google.com/assets/colab-badge.svg\" alt=\"Open In Colab\"/></a>"
      ]
    },
    {
      "cell_type": "markdown",
      "source": [
        "# 総合問題 8-1"
      ],
      "metadata": {
        "id": "2O4v6b9dDXem"
      }
    },
    {
      "cell_type": "markdown",
      "source": [
        "・回帰\n",
        "\n",
        "入力データから連続的な数値を予測する手法\n",
        "説明変数から目的変数を予測する方法\n",
        "\n",
        "説明変数（入力となる特徴量）\n",
        "\n",
        "目的変数（連続値の予測対象）"
      ],
      "metadata": {
        "id": "EqsYwupTEZeB"
      }
    },
    {
      "cell_type": "markdown",
      "source": [
        "・分類\n",
        "\n",
        "与えられたデータをあらかじめ定義されたカテゴリやクラスのこと"
      ],
      "metadata": {
        "id": "FunDNMOxIqIq"
      }
    },
    {
      "cell_type": "markdown",
      "source": [
        "・教師あり学習\n",
        "\n",
        "人間が教師役として「入力」と「正解データ」をコンピュータに与え、「入力」と「正解データ」をもとににコンピュータがそれらの特徴を学習していき、未知のデータについても判断できるようにするモデル構築手法。"
      ],
      "metadata": {
        "id": "DdiCO2xbJDI1"
      }
    },
    {
      "cell_type": "markdown",
      "source": [
        "・重回帰分析\n",
        "\n",
        "回帰分析のひとつであり「単回帰分析」の発展形。複数の説明変数（特徴量）を使用して連続値の目的変数を予測する統計手法です。"
      ],
      "metadata": {
        "id": "xmf1My-fJLi-"
      }
    },
    {
      "cell_type": "markdown",
      "source": [
        "・ロジスティック回帰\n",
        "\n",
        "分類分析の一つである。複数の説明変数から二値分類&その確率を行うモデル。"
      ],
      "metadata": {
        "id": "R3yL6VLMJbtB"
      }
    },
    {
      "cell_type": "markdown",
      "source": [
        "・正則化\n",
        "\n",
        "過学習を防ぐための手法である。モデルに「正則化項」というものを付けることでモデルの形が複雑になりすぎないように調整しようとするもの。"
      ],
      "metadata": {
        "id": "5w6x51YBJ4p7"
      }
    },
    {
      "cell_type": "markdown",
      "source": [
        "・リッジ回帰\n",
        "\n",
        "回帰係数の二乗和を制約し過剰適合を抑える。データに対して過剰適合しやすい問題を軽減し、一般化性能を向上させる。"
      ],
      "metadata": {
        "id": "tB3I7h4SKmk8"
      }
    },
    {
      "cell_type": "markdown",
      "source": [
        "・ラッソ回帰\n",
        "\n",
        "回帰係数の絶対値和で特徴選択し解のスパース性を向上する。予測に寄与しない特徴量を自動的に除外し、モデルの解釈性を向上させる。"
      ],
      "metadata": {
        "id": "Ukv3mNw_LJYb"
      }
    },
    {
      "cell_type": "markdown",
      "source": [
        "・決定木\n",
        "\n",
        "木構造を用いて分類や回帰を行う。\n",
        "特定の特徴がよく現れるようなデータのかたまりを見つけ、その分類ルールを生成する機械学習の手法である。"
      ],
      "metadata": {
        "id": "o1djYGXhLYP-"
      }
    },
    {
      "cell_type": "markdown",
      "source": [
        "・エントロピー\n",
        "\n",
        "乱雑さ、不純度を数値化したもの。\n",
        "つまり、”エントロピー”とは”ゴミ”のこと。"
      ],
      "metadata": {
        "id": "iBorX3KVLoit"
      }
    },
    {
      "cell_type": "markdown",
      "source": [
        "・情報利得\n",
        "\n",
        "分割の良さ。（分割前のエントロピー - 分割後のエントロピー）\n",
        "決定木や特徴選択などの機械学習や情報理論で使用される指標である。特定の特徴量や属性を選択する際の優劣を評価するために用いられる。"
      ],
      "metadata": {
        "id": "EhWSFXn4L1IW"
      }
    },
    {
      "cell_type": "markdown",
      "source": [
        "・k-NN法（k-近傍法）\n",
        "\n",
        "あるデータに着目した時に近隣k個のデータの平均もしくは多数決の値を予測として出力するアルゴリズム。"
      ],
      "metadata": {
        "id": "lSoUEa7EMEVV"
      }
    },
    {
      "cell_type": "markdown",
      "source": [
        "・SVM（サポートベクターマシン）\n",
        "\n",
        "データを分類して境界線を引くためのアルゴリズムである。"
      ],
      "metadata": {
        "id": "zzcoaSU0MOxX"
      }
    },
    {
      "cell_type": "markdown",
      "source": [
        "・ノーフリーランチ\n",
        "\n",
        "全ての問題において優れた性能を発揮できる“万能”の「教師ありの機械学習モデル」や「探索／最適化のアルゴリズム」など（＝無料のランチ）は理論上、存在しないことを指す。"
      ],
      "metadata": {
        "id": "Q6bDOZgQNAnc"
      }
    },
    {
      "cell_type": "markdown",
      "source": [
        "# 総合問題 8-2"
      ],
      "metadata": {
        "id": "6Efias0wDdM5"
      }
    },
    {
      "cell_type": "code",
      "source": [
        "from sklearn.datasets import load_iris\n",
        "from sklearn.tree import DecisionTreeClassifier\n",
        "from sklearn.model_selection import train_test_split\n",
        "\n",
        "iris = load_iris()\n",
        "\n",
        "X_train, X_test, y_train, y_test = train_test_split(\n",
        "    iris.data, iris.target, stratify = iris.target, random_state=0)\n",
        "\n",
        "model = DecisionTreeClassifier(criterion='entropy', max_depth=3, random_state=0)\n",
        "model.fit(X_train, y_train)\n",
        "\n",
        "print('正解率(train):{:.3f}'.format(model.score(X_train, y_train)))\n",
        "print('正解(test):{:.3f}'.format(model.score(X_test, y_test)))"
      ],
      "metadata": {
        "colab": {
          "base_uri": "https://localhost:8080/"
        },
        "id": "AEI7MK_mDmaG",
        "outputId": "123cb110-1a38-4232-f142-e5e4a81106cb"
      },
      "execution_count": 2,
      "outputs": [
        {
          "output_type": "stream",
          "name": "stdout",
          "text": [
            "正解率(train):0.964\n",
            "正解(test):0.947\n"
          ]
        }
      ]
    }
  ]
}