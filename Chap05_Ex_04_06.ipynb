{
  "nbformat": 4,
  "nbformat_minor": 0,
  "metadata": {
    "colab": {
      "provenance": [],
      "toc_visible": true,
      "authorship_tag": "ABX9TyOWEHqtnGGHUGMlN1EaSQ68",
      "include_colab_link": true
    },
    "kernelspec": {
      "name": "python3",
      "display_name": "Python 3"
    },
    "language_info": {
      "name": "python"
    }
  },
  "cells": [
    {
      "cell_type": "markdown",
      "metadata": {
        "id": "view-in-github",
        "colab_type": "text"
      },
      "source": [
        "<a href=\"https://colab.research.google.com/github/niedakaito/EU_M_Math/blob/main/Chap05_Ex_04_06.ipynb\" target=\"_parent\"><img src=\"https://colab.research.google.com/assets/colab-badge.svg\" alt=\"Open In Colab\"/></a>"
      ]
    },
    {
      "cell_type": "code",
      "execution_count": 1,
      "metadata": {
        "colab": {
          "base_uri": "https://localhost:8080/",
          "height": 36
        },
        "id": "K2V0-2jGZso2",
        "outputId": "52f34184-dcd8-49b5-b7ae-cc9ef59a8418"
      },
      "outputs": [
        {
          "output_type": "execute_result",
          "data": {
            "text/plain": [
              "'%.3f'"
            ],
            "application/vnd.google.colaboratory.intrinsic+json": {
              "type": "string"
            }
          },
          "metadata": {},
          "execution_count": 1
        }
      ],
      "source": [
        "import numpy as np\n",
        "import numpy.random as random\n",
        "import scipy as sp\n",
        "\n",
        "import matplotlib.pyplot as plt\n",
        "import matplotlib as mpl\n",
        "%matplotlib inline\n",
        "\n",
        "%precision 3"
      ]
    },
    {
      "cell_type": "markdown",
      "source": [
        "# 練習問題 5-4"
      ],
      "metadata": {
        "id": "PtxMUpm4Zz_p"
      }
    },
    {
      "cell_type": "code",
      "source": [
        "sample_multi_array_data2 = np.arange(16).reshape(4,4)\n",
        "sample_multi_array_data2"
      ],
      "metadata": {
        "colab": {
          "base_uri": "https://localhost:8080/"
        },
        "id": "1brMA4LsZ46E",
        "outputId": "aab08258-7384-46f4-d08a-de3eac9b6aa7"
      },
      "execution_count": 2,
      "outputs": [
        {
          "output_type": "execute_result",
          "data": {
            "text/plain": [
              "array([[ 0,  1,  2,  3],\n",
              "       [ 4,  5,  6,  7],\n",
              "       [ 8,  9, 10, 11],\n",
              "       [12, 13, 14, 15]])"
            ]
          },
          "metadata": {},
          "execution_count": 2
        }
      ]
    },
    {
      "cell_type": "code",
      "source": [
        "print('すべての要素の平方根：', np.sqrt(sample_multi_array_data2))"
      ],
      "metadata": {
        "colab": {
          "base_uri": "https://localhost:8080/"
        },
        "id": "igJWzEIiaG7S",
        "outputId": "99004983-f567-4ad5-e055-1be858253eed"
      },
      "execution_count": 3,
      "outputs": [
        {
          "output_type": "stream",
          "name": "stdout",
          "text": [
            "すべての要素の平方根： [[0.    1.    1.414 1.732]\n",
            " [2.    2.236 2.449 2.646]\n",
            " [2.828 3.    3.162 3.317]\n",
            " [3.464 3.606 3.742 3.873]]\n"
          ]
        }
      ]
    },
    {
      "cell_type": "markdown",
      "source": [
        "# 練習問題 5-5"
      ],
      "metadata": {
        "id": "a7YdzSq0akaS"
      }
    },
    {
      "cell_type": "code",
      "source": [
        "print('最大値：', sample_multi_array_data2.max())\n",
        "print('最小値：', sample_multi_array_data2.min())\n",
        "print('合計：', sample_multi_array_data2.sum())\n",
        "print('平均：', sample_multi_array_data2.mean())"
      ],
      "metadata": {
        "colab": {
          "base_uri": "https://localhost:8080/"
        },
        "id": "uwZ-bFk7ag5X",
        "outputId": "50a95094-9ad1-45ef-d472-7dc5173259cc"
      },
      "execution_count": 4,
      "outputs": [
        {
          "output_type": "stream",
          "name": "stdout",
          "text": [
            "最大値： 15\n",
            "最小値： 0\n",
            "合計： 120\n",
            "平均： 7.5\n"
          ]
        }
      ]
    },
    {
      "cell_type": "markdown",
      "source": [
        "# 練習問題 5-6"
      ],
      "metadata": {
        "id": "uYS_wDLka3s0"
      }
    },
    {
      "cell_type": "code",
      "source": [
        "print('対角成分の和：', np.trace(sample_multi_array_data2))"
      ],
      "metadata": {
        "colab": {
          "base_uri": "https://localhost:8080/"
        },
        "id": "nuyCVEKca3Ii",
        "outputId": "e3369ec7-2e1b-4483-e5f2-b5f6caf6990d"
      },
      "execution_count": 5,
      "outputs": [
        {
          "output_type": "stream",
          "name": "stdout",
          "text": [
            "対角成分の和： 30\n"
          ]
        }
      ]
    }
  ]
}