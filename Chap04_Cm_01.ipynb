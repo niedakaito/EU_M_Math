{
  "nbformat": 4,
  "nbformat_minor": 0,
  "metadata": {
    "colab": {
      "provenance": [],
      "authorship_tag": "ABX9TyNgzhukNPECewc6ZJOudhU6",
      "include_colab_link": true
    },
    "kernelspec": {
      "name": "python3",
      "display_name": "Python 3"
    },
    "language_info": {
      "name": "python"
    }
  },
  "cells": [
    {
      "cell_type": "markdown",
      "metadata": {
        "id": "view-in-github",
        "colab_type": "text"
      },
      "source": [
        "<a href=\"https://colab.research.google.com/github/niedakaito/EU_M_Math/blob/main/Chap04_Cm_01.ipynb\" target=\"_parent\"><img src=\"https://colab.research.google.com/assets/colab-badge.svg\" alt=\"Open In Colab\"/></a>"
      ]
    },
    {
      "cell_type": "code",
      "source": [
        "import numpy as np\n",
        "import scipy as sp\n",
        "import pandas as pd\n",
        "from pandas import Series, DataFrame\n",
        "\n",
        "import matplotlib.pyplot as plt\n",
        "import matplotlib as mpl\n",
        "import seaborn as sns\n",
        "%matplotlib inline\n",
        "\n",
        "%precision 3\n",
        "\n",
        "np.random.seed(0)\n",
        "\n",
        "from scipy import stats"
      ],
      "metadata": {
        "id": "LwzBHu-AQUyJ"
      },
      "execution_count": 1,
      "outputs": []
    },
    {
      "cell_type": "code",
      "source": [
        "pwd"
      ],
      "metadata": {
        "colab": {
          "base_uri": "https://localhost:8080/",
          "height": 36
        },
        "id": "OPcF9SVPTa-9",
        "outputId": "6d400746-425c-4701-8539-01e2e57c1248"
      },
      "execution_count": 2,
      "outputs": [
        {
          "output_type": "execute_result",
          "data": {
            "text/plain": [
              "'/content'"
            ],
            "application/vnd.google.colaboratory.intrinsic+json": {
              "type": "string"
            }
          },
          "metadata": {},
          "execution_count": 2
        }
      ]
    },
    {
      "cell_type": "code",
      "source": [
        "mkdir chap3"
      ],
      "metadata": {
        "id": "lv98WZtaTcN2"
      },
      "execution_count": 3,
      "outputs": []
    },
    {
      "cell_type": "code",
      "source": [
        "cd /content/chap3/"
      ],
      "metadata": {
        "id": "42cyLDF3TecW"
      },
      "execution_count": null,
      "outputs": []
    },
    {
      "cell_type": "code",
      "source": [
        "import requests, zipfile\n",
        "from io import StringIO\n",
        "import io\n",
        "\n",
        "url = 'https://archive.ics.uci.edu/ml/machine-learning-databases/00356/student.zip'\n",
        "r = requests.get(url, stream=True)\n",
        "z = zipfile.ZipFile(io.BytesIO(r.content))\n",
        "z.extractall()"
      ],
      "metadata": {
        "id": "qHwRtk2pThn7"
      },
      "execution_count": 4,
      "outputs": []
    },
    {
      "cell_type": "code",
      "source": [
        "student_data_math = pd.read_csv('student-mat.csv', sep=';')\n",
        "student_data_por = pd.read_csv('student-por.csv', sep=';')\n",
        "\n",
        "student_data_merge = pd.merge(student_data_math\n",
        "                              , student_data_por\n",
        "                              , on=['school', 'sex', 'age', 'address', 'famsize'\n",
        "                                    , 'Pstatus', 'Medu', 'Fedu', 'Mjob', 'reason'\n",
        "                                    , 'nursery', 'internet']\n",
        "                              , suffixes=('_math', '_por'))"
      ],
      "metadata": {
        "id": "sn61ZaYXT6A8"
      },
      "execution_count": 5,
      "outputs": []
    },
    {
      "cell_type": "code",
      "source": [
        "print('数学の欠席数平均：', student_data_merge.absences_math.mean())\n",
        "print('ポルトガル語の欠席数平均：', student_data_merge.absences_por.mean())\n",
        "t, p = stats.ttest_rel(student_data_merge.absences_math, student_data_merge.absences_por)\n",
        "print('p値 = ', p)"
      ],
      "metadata": {
        "colab": {
          "base_uri": "https://localhost:8080/"
        },
        "id": "TrY0b2SmT9pn",
        "outputId": "193683f9-a346-4a90-bc43-f2746e7408f6"
      },
      "execution_count": 7,
      "outputs": [
        {
          "output_type": "stream",
          "name": "stdout",
          "text": [
            "数学の欠席数平均： 5.276543209876543\n",
            "ポルトガル語の欠席数平均： 3.6419753086419755\n",
            "p値 =  4.867347974258159e-06\n"
          ]
        }
      ]
    },
    {
      "cell_type": "code",
      "source": [
        "print('数学の勉強時間平均：', student_data_merge.studytime_math.mean())\n",
        "print('ポルトガル語の勉強時間平均：', student_data_merge.studytime_por.mean())\n",
        "t, p = stats.ttest_rel(student_data_merge.studytime_math, student_data_merge.studytime_por)\n",
        "print('p値 = ', p)"
      ],
      "metadata": {
        "colab": {
          "base_uri": "https://localhost:8080/"
        },
        "id": "YqAMr06oUvuk",
        "outputId": "bac96a8f-cc2b-43e7-888a-a59bbab1a308"
      },
      "execution_count": 8,
      "outputs": [
        {
          "output_type": "stream",
          "name": "stdout",
          "text": [
            "数学の勉強時間平均： 2.049382716049383\n",
            "ポルトガル語の勉強時間平均： 2.05679012345679\n",
            "p値 =  0.6966255325783017\n"
          ]
        }
      ]
    }
  ]
}