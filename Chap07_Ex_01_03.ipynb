{
  "nbformat": 4,
  "nbformat_minor": 0,
  "metadata": {
    "colab": {
      "provenance": [],
      "toc_visible": true,
      "authorship_tag": "ABX9TyP36ViTT+BF0eszP28/y96S",
      "include_colab_link": true
    },
    "kernelspec": {
      "name": "python3",
      "display_name": "Python 3"
    },
    "language_info": {
      "name": "python"
    }
  },
  "cells": [
    {
      "cell_type": "markdown",
      "metadata": {
        "id": "view-in-github",
        "colab_type": "text"
      },
      "source": [
        "<a href=\"https://colab.research.google.com/github/niedakaito/EU_M_Math/blob/main/Chap07_Ex_01_03.ipynb\" target=\"_parent\"><img src=\"https://colab.research.google.com/assets/colab-badge.svg\" alt=\"Open In Colab\"/></a>"
      ]
    },
    {
      "cell_type": "code",
      "source": [
        "# 使用ライブラリ\n",
        "import numpy as np\n",
        "import numpy.random as random\n",
        "import scipy as sp\n",
        "import pandas as pd\n",
        "from pandas import Series, DataFrame\n",
        "\n",
        "# 可視化ライブラリ\n",
        "import matplotlib.pyplot as plt\n",
        "import matplotlib as mpl\n",
        "import seaborn as sns\n",
        "sns.set()\n",
        "%matplotlib inline\n",
        "\n",
        "%precision 3"
      ],
      "metadata": {
        "colab": {
          "base_uri": "https://localhost:8080/",
          "height": 36
        },
        "id": "pwR50v8kShhf",
        "outputId": "5b5cdf53-a157-4d30-b426-71bf015a676f"
      },
      "execution_count": 1,
      "outputs": [
        {
          "output_type": "execute_result",
          "data": {
            "text/plain": [
              "'%.3f'"
            ],
            "application/vnd.google.colaboratory.intrinsic+json": {
              "type": "string"
            }
          },
          "metadata": {},
          "execution_count": 1
        }
      ]
    },
    {
      "cell_type": "code",
      "execution_count": 2,
      "metadata": {
        "colab": {
          "base_uri": "https://localhost:8080/"
        },
        "id": "a--odws1M9j5",
        "outputId": "ca7c9110-37bb-46f6-ad50-24b49dffaca0"
      },
      "outputs": [
        {
          "output_type": "stream",
          "name": "stdout",
          "text": [
            "/content\n"
          ]
        }
      ],
      "source": [
        "cd /content/"
      ]
    },
    {
      "cell_type": "code",
      "source": [
        "mkdir chap3"
      ],
      "metadata": {
        "colab": {
          "base_uri": "https://localhost:8080/"
        },
        "id": "knNcGz55OG0i",
        "outputId": "d568f48c-eca0-463d-8633-c62c1d1119c9"
      },
      "execution_count": 3,
      "outputs": [
        {
          "output_type": "stream",
          "name": "stdout",
          "text": [
            "mkdir: cannot create directory ‘chap3’: File exists\n"
          ]
        }
      ]
    },
    {
      "cell_type": "code",
      "source": [
        "cd /content/chap3/"
      ],
      "metadata": {
        "colab": {
          "base_uri": "https://localhost:8080/"
        },
        "id": "jDMFsIy8OJ6C",
        "outputId": "a2f13732-acc7-49d8-accf-4d977b26b429"
      },
      "execution_count": 4,
      "outputs": [
        {
          "output_type": "stream",
          "name": "stdout",
          "text": [
            "/content/chap3\n"
          ]
        }
      ]
    },
    {
      "cell_type": "code",
      "source": [
        "import requests, zipfile\n",
        "from io import StringIO\n",
        "import io"
      ],
      "metadata": {
        "id": "1ohuEptYOOTc"
      },
      "execution_count": 5,
      "outputs": []
    },
    {
      "cell_type": "code",
      "source": [
        "url = 'https://archive.ics.uci.edu/ml/machine-learning-databases/00356/student.zip'\n",
        "\n",
        "r = requests.get(url, stream=True)\n",
        "\n",
        "z = zipfile.ZipFile(io.BytesIO(r.content))\n",
        "z.extractall()"
      ],
      "metadata": {
        "id": "6lAUgPCWOQ0r"
      },
      "execution_count": 6,
      "outputs": []
    },
    {
      "cell_type": "markdown",
      "source": [
        "# 練習問題 7-1"
      ],
      "metadata": {
        "id": "GRp5ESiqS8gX"
      }
    },
    {
      "cell_type": "code",
      "source": [
        "import pandas as pd"
      ],
      "metadata": {
        "id": "YK6mxEOYOT3a"
      },
      "execution_count": 7,
      "outputs": []
    },
    {
      "cell_type": "code",
      "source": [
        "student_data_math = pd.read_csv('student-mat.csv', sep = ';')\n",
        "\n",
        "student_data_math.groupby('reason').size()"
      ],
      "metadata": {
        "colab": {
          "base_uri": "https://localhost:8080/"
        },
        "id": "A6TJJY6KOYvo",
        "outputId": "a7ac1870-8a0e-4b97-9e3e-6d9507b1b5a6"
      },
      "execution_count": 8,
      "outputs": [
        {
          "output_type": "execute_result",
          "data": {
            "text/plain": [
              "reason\n",
              "course        145\n",
              "home          109\n",
              "other          36\n",
              "reputation    105\n",
              "dtype: int64"
            ]
          },
          "metadata": {},
          "execution_count": 8
        }
      ]
    },
    {
      "cell_type": "code",
      "source": [
        "labels = ['course', 'home', 'other', 'reputation']\n",
        "sizes = [145, 109, 36, 105]\n",
        "colors = ['yellowgreen', 'gold', 'lightskyblue', 'lightcoral']\n",
        "\n",
        "plt.figure(figsize = (15,6))\n",
        "\n",
        "plt.pie(sizes, labels = labels, colors = colors,\n",
        "        autopct = '%1.1f%%', startangle = 90)\n",
        "\n",
        "plt.axis('equal')"
      ],
      "metadata": {
        "colab": {
          "base_uri": "https://localhost:8080/",
          "height": 443
        },
        "id": "lO_HrGdvR9gu",
        "outputId": "e290eed2-2b31-4e74-9ed4-d9b4d67a5182"
      },
      "execution_count": 10,
      "outputs": [
        {
          "output_type": "execute_result",
          "data": {
            "text/plain": [
              "(-1.0999975695197284,\n",
              " 1.099999624688255,\n",
              " -1.0999999829323794,\n",
              " 1.0999999991872562)"
            ]
          },
          "metadata": {},
          "execution_count": 10
        },
        {
          "output_type": "display_data",
          "data": {
            "text/plain": [
              "<Figure size 1500x600 with 1 Axes>"
            ],
            "image/png": "[encoded data removed]"
          },
          "metadata": {}
        }
      ]
    },
    {
      "cell_type": "markdown",
      "source": [
        "# 練習問題 7-2"
      ],
      "metadata": {
        "id": "Imt4Yoq1TDm5"
      }
    },
    {
      "cell_type": "code",
      "source": [
        "student_data_math.groupby('higher').size()"
      ],
      "metadata": {
        "colab": {
          "base_uri": "https://localhost:8080/"
        },
        "id": "MAIHQIrPTDL9",
        "outputId": "5a96dbdc-10cc-4274-98ac-0aa41f200743"
      },
      "execution_count": 11,
      "outputs": [
        {
          "output_type": "execute_result",
          "data": {
            "text/plain": [
              "higher\n",
              "no      20\n",
              "yes    375\n",
              "dtype: int64"
            ]
          },
          "metadata": {},
          "execution_count": 11
        }
      ]
    },
    {
      "cell_type": "code",
      "source": [
        "student_data_math.groupby('higher')['G3'].mean().plot(kind = 'bar')\n",
        "\n",
        "plt.xlabel('higer')\n",
        "plt.ylabel('G3')"
      ],
      "metadata": {
        "colab": {
          "base_uri": "https://localhost:8080/",
          "height": 487
        },
        "id": "a-TGcUdvTfZ-",
        "outputId": "8bf2b5b5-89aa-4137-8b38-053a047e9819"
      },
      "execution_count": 14,
      "outputs": [
        {
          "output_type": "execute_result",
          "data": {
            "text/plain": [
              "Text(0, 0.5, 'G3')"
            ]
          },
          "metadata": {},
          "execution_count": 14
        },
        {
          "output_type": "display_data",
          "data": {
            "text/plain": [
              "<Figure size 640x480 with 1 Axes>"
            ],
            "image/png": "[encoded data removed]"
          },
          "metadata": {}
        }
      ]
    },
    {
      "cell_type": "markdown",
      "source": [
        "高い教育を受けたい人は、成績が良い傾向がある"
      ],
      "metadata": {
        "id": "qwHZsqRRUQ2N"
      }
    },
    {
      "cell_type": "markdown",
      "source": [
        "# 練習問題 7-3"
      ],
      "metadata": {
        "id": "UrJziDDQUMPu"
      }
    },
    {
      "cell_type": "code",
      "source": [
        "student_data_math.groupby('traveltime').size()"
      ],
      "metadata": {
        "colab": {
          "base_uri": "https://localhost:8080/"
        },
        "id": "bC5tGEpUUgWd",
        "outputId": "a5627693-a799-4dd0-bcdd-0b1e59b6e6f5"
      },
      "execution_count": 15,
      "outputs": [
        {
          "output_type": "execute_result",
          "data": {
            "text/plain": [
              "traveltime\n",
              "1    257\n",
              "2    107\n",
              "3     23\n",
              "4      8\n",
              "dtype: int64"
            ]
          },
          "metadata": {},
          "execution_count": 15
        }
      ]
    },
    {
      "cell_type": "code",
      "source": [
        "student_data_math.groupby('traveltime')['G3'].mean().plot(kind = 'barh')\n",
        "\n",
        "plt.xlabel('G3 Grade average')\n",
        "plt.ylabel('traveltime')"
      ],
      "metadata": {
        "colab": {
          "base_uri": "https://localhost:8080/",
          "height": 476
        },
        "id": "YcC1P4BSTvCo",
        "outputId": "839cac50-08ea-4843-d9bd-3a7cba308740"
      },
      "execution_count": 18,
      "outputs": [
        {
          "output_type": "execute_result",
          "data": {
            "text/plain": [
              "Text(0, 0.5, 'traveltime')"
            ]
          },
          "metadata": {},
          "execution_count": 18
        },
        {
          "output_type": "display_data",
          "data": {
            "text/plain": [
              "<Figure size 640x480 with 1 Axes>"
            ],
            "image/png": "[encoded data removed]"
          },
          "metadata": {}
        }
      ]
    },
    {
      "cell_type": "markdown",
      "source": [
        "通学時間が短いと成績が良い傾向がある"
      ],
      "metadata": {
        "id": "Z7G5wDcEUvEz"
      }
    }
  ]
}