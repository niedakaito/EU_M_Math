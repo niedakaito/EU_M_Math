{
  "nbformat": 4,
  "nbformat_minor": 0,
  "metadata": {
    "colab": {
      "provenance": [],
      "toc_visible": true,
      "authorship_tag": "ABX9TyNVSsjeXJs+8WzCOwLYuTR+",
      "include_colab_link": true
    },
    "kernelspec": {
      "name": "python3",
      "display_name": "Python 3"
    },
    "language_info": {
      "name": "python"
    }
  },
  "cells": [
    {
      "cell_type": "markdown",
      "metadata": {
        "id": "view-in-github",
        "colab_type": "text"
      },
      "source": [
        "<a href=\"https://colab.research.google.com/github/niedakaito/EU_M_Math/blob/main/Chap05_Cm_01_03.ipynb\" target=\"_parent\"><img src=\"https://colab.research.google.com/assets/colab-badge.svg\" alt=\"Open In Colab\"/></a>"
      ]
    },
    {
      "cell_type": "code",
      "execution_count": null,
      "metadata": {
        "id": "W4ZQDgxcOtLJ"
      },
      "outputs": [],
      "source": [
        "import numpy as np\n",
        "import numpy.random as random\n",
        "import scipy as sp\n",
        "\n",
        "import matplotlib.pyplot as plt\n",
        "import matplotlib as mpl\n",
        "%matplotlib inline\n",
        "\n",
        "%precision 3\n",
        "\n",
        "from scipy import interpolate\n",
        "\n",
        "from scipy import integrate\n",
        "import math\n",
        "\n",
        "from scipy.optimize import fsolve"
      ]
    },
    {
      "cell_type": "markdown",
      "source": [
        "# 総合問題 5-1"
      ],
      "metadata": {
        "id": "LyscepnLO4X7"
      }
    },
    {
      "cell_type": "code",
      "source": [
        "A = np.array([[5, 1, 0, 1],\n",
        "              [-1, 9, -5, 7],\n",
        "              [0, -5, 8, -3],\n",
        "              [1, 7, -3, 10]])\n",
        "b = np.array([2, 10, 5, 10])\n",
        "\n",
        "\n",
        "L = sp.linalg.cholesky(A)\n",
        "\n",
        "t = sp.linalg.solve(L.T.conj(), b)\n",
        "x = sp.linalg.solve(L, t)\n",
        "\n",
        "print(x)"
      ],
      "metadata": {
        "colab": {
          "base_uri": "https://localhost:8080/"
        },
        "id": "VCGABzUdO8Sr",
        "outputId": "cae3ad9b-9dd3-4a7f-d37e-d45e72f01a3d"
      },
      "execution_count": null,
      "outputs": [
        {
          "output_type": "stream",
          "name": "stdout",
          "text": [
            "[-0.051  2.157  2.01   0.098]\n"
          ]
        }
      ]
    },
    {
      "cell_type": "markdown",
      "source": [
        "# 総合問題 5-2"
      ],
      "metadata": {
        "id": "DKO2PVbKPydS"
      }
    },
    {
      "cell_type": "code",
      "source": [
        "integrate.dblquad(lambda x,y: 1/(np.sqrt(x+y)*(1+x+y)**2), 0, 1, lambda x: 0, lambda x: 1-x)"
      ],
      "metadata": {
        "colab": {
          "base_uri": "https://localhost:8080/"
        },
        "id": "xdi8cBO7PyC-",
        "outputId": "29132160-f32a-4c04-b0b0-26c227b5a975"
      },
      "execution_count": null,
      "outputs": [
        {
          "output_type": "execute_result",
          "data": {
            "text/plain": [
              "(0.285, 0.000)"
            ]
          },
          "metadata": {},
          "execution_count": 4
        }
      ]
    },
    {
      "cell_type": "markdown",
      "source": [
        "# 総合問題 5-3"
      ],
      "metadata": {
        "id": "GG5_Du-KQoP4"
      }
    },
    {
      "cell_type": "code",
      "source": [
        "from scipy.optimize import minimize\n",
        "\n",
        "def func(x):\n",
        "  return x**2 + 1\n",
        "\n",
        "def cons(x):\n",
        "  return (x + 1)\n",
        "\n",
        "cons = ({'type':'ineq', 'fun':cons})\n",
        "\n",
        "x = -10\n",
        "\n",
        "sol = minimize(func, x0=x, method='SLSQP',constraints=cons)\n",
        "print(sol)"
      ],
      "metadata": {
        "colab": {
          "base_uri": "https://localhost:8080/"
        },
        "id": "95Y9HPz1Qniw",
        "outputId": "4068efb1-1b1b-4f5a-f842-9eb866b70e37"
      },
      "execution_count": null,
      "outputs": [
        {
          "output_type": "stream",
          "name": "stdout",
          "text": [
            " message: Optimization terminated successfully\n",
            " success: True\n",
            "  status: 0\n",
            "     fun: 1.0\n",
            "       x: [ 0.000e+00]\n",
            "     nit: 2\n",
            "     jac: [ 1.490e-08]\n",
            "    nfev: 5\n",
            "    njev: 2\n"
          ]
        }
      ]
    }
  ]
}