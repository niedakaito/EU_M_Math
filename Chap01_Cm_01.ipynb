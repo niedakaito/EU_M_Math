{
  "nbformat": 4,
  "nbformat_minor": 0,
  "metadata": {
    "colab": {
      "provenance": [],
      "toc_visible": true,
      "authorship_tag": "ABX9TyNCR673F4JEfxFqZV38dfc3",
      "include_colab_link": true
    },
    "kernelspec": {
      "name": "python3",
      "display_name": "Python 3"
    },
    "language_info": {
      "name": "python"
    }
  },
  "cells": [
    {
      "cell_type": "markdown",
      "metadata": {
        "id": "view-in-github",
        "colab_type": "text"
      },
      "source": [
        "<a href=\"https://colab.research.google.com/github/niedakaito/EU_M_Math-Repository/blob/main/Chap01_Cm_01.ipynb\" target=\"_parent\"><img src=\"https://colab.research.google.com/assets/colab-badge.svg\" alt=\"Open In Colab\"/></a>"
      ]
    },
    {
      "cell_type": "markdown",
      "source": [
        "# 総合問題1-1"
      ],
      "metadata": {
        "id": "4LaLYJkYsRlv"
      }
    },
    {
      "cell_type": "code",
      "execution_count": 3,
      "metadata": {
        "id": "foHQei7isCzy",
        "outputId": "1fddad1d-a5bb-4c42-d615-95453e42d678",
        "colab": {
          "base_uri": "https://localhost:8080/"
        }
      },
      "outputs": [
        {
          "output_type": "stream",
          "name": "stdout",
          "text": [
            "2 3 5 7 "
          ]
        }
      ],
      "source": [
        "# 総合問題1-1\n",
        "limit = 10\n",
        "for i in range(2, limit):\n",
        "  for j in range(2, i):\n",
        "    if i % j == 0:\n",
        "      break\n",
        "  else:\n",
        "    print(i, end=' ')"
      ]
    }
  ]
}