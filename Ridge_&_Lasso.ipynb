{
  "nbformat": 4,
  "nbformat_minor": 0,
  "metadata": {
    "colab": {
      "provenance": [],
      "toc_visible": true,
      "authorship_tag": "ABX9TyNZs375FWgPBG++iA95Bntz",
      "include_colab_link": true
    },
    "kernelspec": {
      "name": "python3",
      "display_name": "Python 3"
    },
    "language_info": {
      "name": "python"
    }
  },
  "cells": [
    {
      "cell_type": "markdown",
      "metadata": {
        "id": "view-in-github",
        "colab_type": "text"
      },
      "source": [
        "<a href=\"https://colab.research.google.com/github/niedakaito/EU_M_Math/blob/main/Ridge_%26_Lasso.ipynb\" target=\"_parent\"><img src=\"https://colab.research.google.com/assets/colab-badge.svg\" alt=\"Open In Colab\"/></a>"
      ]
    },
    {
      "cell_type": "markdown",
      "source": [
        "# ラッソとリッジ回帰で用いられる正則化項式のメリットについて"
      ],
      "metadata": {
        "id": "c1LHuiWrazQ5"
      }
    },
    {
      "cell_type": "markdown",
      "source": [
        "・ラッソ回帰（L1正則化）\n",
        "\n",
        "特徴量が多く、過学習を防いだりモデルをシンプルにしたりするときに、不要なパラメータを削る（０にする）ことができる\n",
        "\n",
        "・リッジ回帰（L2正則化）\n",
        "\n",
        "大きな特徴量に対し、ペナルティを与えて重みを調整することで過学習を回避することができる"
      ],
      "metadata": {
        "id": "VvoClMAfbBIj"
      }
    }
  ]
}