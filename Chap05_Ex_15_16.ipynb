{
  "nbformat": 4,
  "nbformat_minor": 0,
  "metadata": {
    "colab": {
      "provenance": [],
      "toc_visible": true,
      "authorship_tag": "ABX9TyOHJ/fSqzfQVfSk1DGKHBPs",
      "include_colab_link": true
    },
    "kernelspec": {
      "name": "python3",
      "display_name": "Python 3"
    },
    "language_info": {
      "name": "python"
    }
  },
  "cells": [
    {
      "cell_type": "markdown",
      "metadata": {
        "id": "view-in-github",
        "colab_type": "text"
      },
      "source": [
        "<a href=\"https://colab.research.google.com/github/niedakaito/EU_M_Math/blob/main/Chap05_Ex_15_16.ipynb\" target=\"_parent\"><img src=\"https://colab.research.google.com/assets/colab-badge.svg\" alt=\"Open In Colab\"/></a>"
      ]
    },
    {
      "cell_type": "code",
      "execution_count": null,
      "metadata": {
        "id": "kZVdcc9mKsH7"
      },
      "outputs": [],
      "source": [
        "import numpy as np\n",
        "import numpy.random as random\n",
        "import scipy as sp\n",
        "\n",
        "import matplotlib.pyplot as plt\n",
        "import matplotlib as mpl\n",
        "%matplotlib inline\n",
        "\n",
        "%precision 3\n",
        "\n",
        "from scipy import interpolate\n",
        "\n",
        "from scipy import integrate\n",
        "import math"
      ]
    },
    {
      "cell_type": "markdown",
      "source": [
        "# 練習問題 5-15"
      ],
      "metadata": {
        "id": "wYPEg1-fLNBR"
      }
    },
    {
      "cell_type": "code",
      "source": [
        "def calcPi(x):\n",
        "  return (x+1)**2"
      ],
      "metadata": {
        "id": "hmwYSg3zLRBN"
      },
      "execution_count": null,
      "outputs": []
    },
    {
      "cell_type": "code",
      "source": [
        "# 計算結果と推定誤差\n",
        "integrate.quad(calcPi, 0, 2)"
      ],
      "metadata": {
        "colab": {
          "base_uri": "https://localhost:8080/"
        },
        "id": "wMkBO6geLp-q",
        "outputId": "a8aea082-1930-40ca-b306-31373bcb9a5d"
      },
      "execution_count": null,
      "outputs": [
        {
          "output_type": "execute_result",
          "data": {
            "text/plain": [
              "(8.667, 0.000)"
            ]
          },
          "metadata": {},
          "execution_count": 4
        }
      ]
    },
    {
      "cell_type": "markdown",
      "source": [
        "# 練習問題 5-16"
      ],
      "metadata": {
        "id": "OG3K-5iLL7aH"
      }
    },
    {
      "cell_type": "code",
      "source": [
        "from numpy import cos\n",
        "integrate.quad(cos, 0, math.pi/1)"
      ],
      "metadata": {
        "colab": {
          "base_uri": "https://localhost:8080/"
        },
        "id": "mo7DWXiDMAHe",
        "outputId": "9ad38f95-add0-43c8-b743-d04877b8609c"
      },
      "execution_count": null,
      "outputs": [
        {
          "output_type": "execute_result",
          "data": {
            "text/plain": [
              "(0.000, 0.000)"
            ]
          },
          "metadata": {},
          "execution_count": 5
        }
      ]
    }
  ]
}