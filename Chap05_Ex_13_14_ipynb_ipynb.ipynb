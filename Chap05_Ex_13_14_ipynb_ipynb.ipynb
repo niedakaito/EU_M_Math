{
  "nbformat": 4,
  "nbformat_minor": 0,
  "metadata": {
    "colab": {
      "provenance": [],
      "toc_visible": true,
      "authorship_tag": "ABX9TyNkfPrCqWFqsRBb80za2sOq",
      "include_colab_link": true
    },
    "kernelspec": {
      "name": "python3",
      "display_name": "Python 3"
    },
    "language_info": {
      "name": "python"
    }
  },
  "cells": [
    {
      "cell_type": "markdown",
      "metadata": {
        "id": "view-in-github",
        "colab_type": "text"
      },
      "source": [
        "<a href=\"https://colab.research.google.com/github/niedakaito/EU_M_Math/blob/main/Chap05_Ex_13_14_ipynb_ipynb.ipynb\" target=\"_parent\"><img src=\"https://colab.research.google.com/assets/colab-badge.svg\" alt=\"Open In Colab\"/></a>"
      ]
    },
    {
      "cell_type": "code",
      "execution_count": 1,
      "metadata": {
        "id": "3oxbMZhTI7n-"
      },
      "outputs": [],
      "source": [
        "import numpy as np\n",
        "import numpy.random as random\n",
        "import scipy as sp\n",
        "\n",
        "import matplotlib.pyplot as plt\n",
        "import matplotlib as mpl\n",
        "%matplotlib inline\n",
        "\n",
        "%precision 3\n",
        "\n",
        "from scipy import interpolate"
      ]
    },
    {
      "cell_type": "markdown",
      "source": [
        "# 練習問題 5-13"
      ],
      "metadata": {
        "id": "jHh-wMrSJN5a"
      }
    },
    {
      "cell_type": "code",
      "source": [
        "B = np.array([[1,2,3], [4,5,6], [7,8,9], [10,11,12]])\n",
        "B"
      ],
      "metadata": {
        "colab": {
          "base_uri": "https://localhost:8080/"
        },
        "id": "KTxDYDlSJR8f",
        "outputId": "0a3a407f-2931-4374-f8d9-9b04df5f38c2"
      },
      "execution_count": 2,
      "outputs": [
        {
          "output_type": "execute_result",
          "data": {
            "text/plain": [
              "array([[ 1,  2,  3],\n",
              "       [ 4,  5,  6],\n",
              "       [ 7,  8,  9],\n",
              "       [10, 11, 12]])"
            ]
          },
          "metadata": {},
          "execution_count": 2
        }
      ]
    },
    {
      "cell_type": "code",
      "source": [
        "U, s, Vs, = sp.linalg.svd(B)\n",
        "m, n = B.shape\n",
        "\n",
        "S = sp.linalg.diagsvd(s, m, n)\n",
        "\n",
        "print('U.S.V* = \\n', U@S@Vs)"
      ],
      "metadata": {
        "colab": {
          "base_uri": "https://localhost:8080/"
        },
        "id": "TeyOJqbpJgDx",
        "outputId": "9cdaad0b-8e71-4dab-8280-f2d35045c313"
      },
      "execution_count": 3,
      "outputs": [
        {
          "output_type": "stream",
          "name": "stdout",
          "text": [
            "U.S.V* = \n",
            " [[ 1.  2.  3.]\n",
            " [ 4.  5.  6.]\n",
            " [ 7.  8.  9.]\n",
            " [10. 11. 12.]]\n"
          ]
        }
      ]
    },
    {
      "cell_type": "markdown",
      "source": [
        "# 練習問題 5-14"
      ],
      "metadata": {
        "id": "kxV2YIJKJ4Gm"
      }
    },
    {
      "cell_type": "code",
      "source": [
        "A = np.identity(3)\n",
        "print(A)\n",
        "A[0,:] = 1\n",
        "A[:,0] = 1\n",
        "A[0,0] = 3\n",
        "b = np.ones(3)\n",
        "print(A)\n",
        "print(b)"
      ],
      "metadata": {
        "colab": {
          "base_uri": "https://localhost:8080/"
        },
        "id": "DMHDbmEoJ71c",
        "outputId": "93d4197b-6946-4677-aea1-9cb0abbf7a9c"
      },
      "execution_count": 5,
      "outputs": [
        {
          "output_type": "stream",
          "name": "stdout",
          "text": [
            "[[1. 0. 0.]\n",
            " [0. 1. 0.]\n",
            " [0. 0. 1.]]\n",
            "[[3. 1. 1.]\n",
            " [1. 1. 0.]\n",
            " [1. 0. 1.]]\n",
            "[1. 1. 1.]\n"
          ]
        }
      ]
    },
    {
      "cell_type": "code",
      "source": [
        "(LU,piv) = sp.linalg.lu_factor(A)\n",
        "\n",
        "L = np.identity(3) + np.tril(LU, -1)\n",
        "U = np.triu(LU)\n",
        "P = np.identity(3)[piv]\n",
        "\n",
        "x = sp.linalg.lu_solve((LU,piv), b)\n",
        "x"
      ],
      "metadata": {
        "colab": {
          "base_uri": "https://localhost:8080/"
        },
        "id": "ZMcO-KOeKPut",
        "outputId": "8297bc4e-ba94-4658-af1b-f204642f2499"
      },
      "execution_count": 7,
      "outputs": [
        {
          "output_type": "execute_result",
          "data": {
            "text/plain": [
              "array([-1.,  2.,  2.])"
            ]
          },
          "metadata": {},
          "execution_count": 7
        }
      ]
    }
  ]
}