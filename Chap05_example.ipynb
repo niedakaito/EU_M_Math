{
  "nbformat": 4,
  "nbformat_minor": 0,
  "metadata": {
    "colab": {
      "provenance": [],
      "toc_visible": true,
      "authorship_tag": "ABX9TyNvmYp/ZcCeeK6hDeLU+P9T",
      "include_colab_link": true
    },
    "kernelspec": {
      "name": "python3",
      "display_name": "Python 3"
    },
    "language_info": {
      "name": "python"
    }
  },
  "cells": [
    {
      "cell_type": "markdown",
      "metadata": {
        "id": "view-in-github",
        "colab_type": "text"
      },
      "source": [
        "<a href=\"https://colab.research.google.com/github/niedakaito/EU_M_Math/blob/main/Chap05_example.ipynb\" target=\"_parent\"><img src=\"https://colab.research.google.com/assets/colab-badge.svg\" alt=\"Open In Colab\"/></a>"
      ]
    },
    {
      "cell_type": "markdown",
      "source": [
        "# chapter 5-1 概要と事前準備"
      ],
      "metadata": {
        "id": "lbimrlc4I-pl"
      }
    },
    {
      "cell_type": "code",
      "execution_count": 1,
      "metadata": {
        "colab": {
          "base_uri": "https://localhost:8080/",
          "height": 36
        },
        "id": "dqEaZ3E9IrfX",
        "outputId": "87f1b390-dee3-44d1-9c45-a4f6b15410af"
      },
      "outputs": [
        {
          "output_type": "execute_result",
          "data": {
            "text/plain": [
              "'%.3f'"
            ],
            "application/vnd.google.colaboratory.intrinsic+json": {
              "type": "string"
            }
          },
          "metadata": {},
          "execution_count": 1
        }
      ],
      "source": [
        "# 以下のライブラリを使う\n",
        "import numpy as np\n",
        "import numpy.random as random\n",
        "import scipy as sp\n",
        "\n",
        "# 可視化ライブラリ\n",
        "import matplotlib.pyplot as plt\n",
        "import matplotlib as mpl\n",
        "%matplotlib inline\n",
        "\n",
        "# 小数第3位まで表示\n",
        "%precision 3"
      ]
    },
    {
      "cell_type": "markdown",
      "source": [
        "# chapter 5-2 Numpyを使った計算の応用"
      ],
      "metadata": {
        "id": "n9CS_UraORFL"
      }
    },
    {
      "cell_type": "code",
      "source": [
        "sample_array = np.arange(10)\n",
        "print('sample_array:', sample_array)"
      ],
      "metadata": {
        "colab": {
          "base_uri": "https://localhost:8080/"
        },
        "id": "aH-hWkRaJ8BY",
        "outputId": "7ea4084f-0c1c-4173-8af3-decadd1cd839"
      },
      "execution_count": 2,
      "outputs": [
        {
          "output_type": "stream",
          "name": "stdout",
          "text": [
            "sample_array: [0 1 2 3 4 5 6 7 8 9]\n"
          ]
        }
      ]
    },
    {
      "cell_type": "code",
      "source": [
        "# 元データ\n",
        "print(sample_array)\n",
        "\n",
        "# 前から数字を5つ取得して、sample_array_sliceに入れる\n",
        "sample_array_slice = sample_array[0:5]\n",
        "print(sample_array_slice)"
      ],
      "metadata": {
        "colab": {
          "base_uri": "https://localhost:8080/"
        },
        "id": "b5CK5nAYKQYn",
        "outputId": "33bc7420-589e-411d-cc0f-0cb58c0601e8"
      },
      "execution_count": 3,
      "outputs": [
        {
          "output_type": "stream",
          "name": "stdout",
          "text": [
            "[0 1 2 3 4 5 6 7 8 9]\n",
            "[0 1 2 3 4]\n"
          ]
        }
      ]
    },
    {
      "cell_type": "code",
      "source": [
        "# sample_array_sliceの3文字目までは、10で置換\n",
        "sample_array_slice[0:3] = 10\n",
        "print(sample_array_slice)\n",
        "\n",
        "# スライスの変更をオリジナルのリストの要素も変更されていることに注意\n",
        "print(sample_array)"
      ],
      "metadata": {
        "colab": {
          "base_uri": "https://localhost:8080/"
        },
        "id": "JTXhpeM7KoZx",
        "outputId": "1e6b30d6-62c3-4182-b2e6-1b34daf47c89"
      },
      "execution_count": 4,
      "outputs": [
        {
          "output_type": "stream",
          "name": "stdout",
          "text": [
            "[10 10 10  3  4]\n",
            "[10 10 10  3  4  5  6  7  8  9]\n"
          ]
        }
      ]
    },
    {
      "cell_type": "code",
      "source": [
        "# copyして別のobjectを作成\n",
        "sample_array_copy = np.copy(sample_array)\n",
        "print(sample_array_copy)\n",
        "\n",
        "sample_array_copy[0:3] = 20\n",
        "print(sample_array_copy)\n",
        "\n",
        "# 元のリストの要素は変更されない\n",
        "print(sample_array)"
      ],
      "metadata": {
        "colab": {
          "base_uri": "https://localhost:8080/"
        },
        "id": "O-wBYWGiLWBw",
        "outputId": "892635f8-7e45-4d8f-bbe6-7cefb5995243"
      },
      "execution_count": 5,
      "outputs": [
        {
          "output_type": "stream",
          "name": "stdout",
          "text": [
            "[10 10 10  3  4  5  6  7  8  9]\n",
            "[20 20 20  3  4  5  6  7  8  9]\n",
            "[10 10 10  3  4  5  6  7  8  9]\n"
          ]
        }
      ]
    },
    {
      "cell_type": "code",
      "source": [
        "# データの準備\n",
        "sample_names = np.array(['a', 'b', 'c', 'd', 'a'])\n",
        "random.seed(0)\n",
        "data = random.randn(5, 5)\n",
        "\n",
        "print(sample_names)\n",
        "print(data)"
      ],
      "metadata": {
        "colab": {
          "base_uri": "https://localhost:8080/"
        },
        "id": "Lh1oLYmCL3xK",
        "outputId": "0f2d3f72-d17c-42e5-810e-6a48a8c01926"
      },
      "execution_count": 6,
      "outputs": [
        {
          "output_type": "stream",
          "name": "stdout",
          "text": [
            "['a' 'b' 'c' 'd' 'a']\n",
            "[[ 1.764  0.4    0.979  2.241  1.868]\n",
            " [-0.977  0.95  -0.151 -0.103  0.411]\n",
            " [ 0.144  1.454  0.761  0.122  0.444]\n",
            " [ 0.334  1.494 -0.205  0.313 -0.854]\n",
            " [-2.553  0.654  0.864 -0.742  2.27 ]]\n"
          ]
        }
      ]
    },
    {
      "cell_type": "code",
      "source": [
        "sample_names == 'a'"
      ],
      "metadata": {
        "colab": {
          "base_uri": "https://localhost:8080/"
        },
        "id": "l22xne8sMWrs",
        "outputId": "02f5059f-8d52-45a1-fe29-ac46d13ea3f0"
      },
      "execution_count": 7,
      "outputs": [
        {
          "output_type": "execute_result",
          "data": {
            "text/plain": [
              "array([ True, False, False, False,  True])"
            ]
          },
          "metadata": {},
          "execution_count": 7
        }
      ]
    },
    {
      "cell_type": "code",
      "source": [
        "data[sample_names == 'a']"
      ],
      "metadata": {
        "colab": {
          "base_uri": "https://localhost:8080/"
        },
        "id": "zoby28yXMcJY",
        "outputId": "00b29229-32f7-482f-f811-40627e8f44f1"
      },
      "execution_count": 8,
      "outputs": [
        {
          "output_type": "execute_result",
          "data": {
            "text/plain": [
              "array([[ 1.764,  0.4  ,  0.979,  2.241,  1.868],\n",
              "       [-2.553,  0.654,  0.864, -0.742,  2.27 ]])"
            ]
          },
          "metadata": {},
          "execution_count": 8
        }
      ]
    },
    {
      "cell_type": "code",
      "source": [
        "# 条件制御のためのブールの配列を作成\n",
        "cond_data = np.array([True, True, False, False, True])\n",
        "\n",
        "# 配列x_arrayを作成\n",
        "x_array = np.array([1, 2, 3, 4, 5])\n",
        "\n",
        "# 配列y_arrayを作成\n",
        "y_array = np.array([100, 200, 300, 400, 500])\n",
        "\n",
        "# 条件制御実施\n",
        "print(np.where(cond_data, x_array, y_array))"
      ],
      "metadata": {
        "colab": {
          "base_uri": "https://localhost:8080/"
        },
        "id": "T_NY2PxKM0WK",
        "outputId": "7d2ea27e-39f7-4d0e-90d7-d2748e4c6729"
      },
      "execution_count": 9,
      "outputs": [
        {
          "output_type": "stream",
          "name": "stdout",
          "text": [
            "[  1   2 300 400   5]\n"
          ]
        }
      ]
    },
    {
      "cell_type": "code",
      "source": [
        "cond_data = np.array([True, True, False, False, True])\n",
        "\n",
        "# cond_dataを表示\n",
        "print(cond_data)\n",
        "\n",
        "# 重複削除\n",
        "print(np.unique(cond_data))"
      ],
      "metadata": {
        "colab": {
          "base_uri": "https://localhost:8080/"
        },
        "id": "u5xOpnZIN2aW",
        "outputId": "53b22e1e-e099-4e50-bd49-4bb4df4362ae"
      },
      "execution_count": 10,
      "outputs": [
        {
          "output_type": "stream",
          "name": "stdout",
          "text": [
            "[ True  True False False  True]\n",
            "[False  True]\n"
          ]
        }
      ]
    },
    {
      "cell_type": "code",
      "source": [
        "# ユニバーサル関数\n",
        "sample_data = np.arange(10)\n",
        "print('元のデータ：', sample_data)\n",
        "print('すべての要素の平方根：', np.sqrt(sample_data))\n",
        "print('すべての要素のネイピア指数関数：', np.exp(sample_data))"
      ],
      "metadata": {
        "colab": {
          "base_uri": "https://localhost:8080/"
        },
        "id": "jNiYQI4vOKG_",
        "outputId": "4d7a9443-7098-4c17-d1cb-29d9edf4017e"
      },
      "execution_count": 11,
      "outputs": [
        {
          "output_type": "stream",
          "name": "stdout",
          "text": [
            "元のデータ： [0 1 2 3 4 5 6 7 8 9]\n",
            "すべての要素の平方根： [0.    1.    1.414 1.732 2.    2.236 2.449 2.646 2.828 3.   ]\n",
            "すべての要素のネイピア指数関数： [1.000e+00 2.718e+00 7.389e+00 2.009e+01 5.460e+01 1.484e+02 4.034e+02\n",
            " 1.097e+03 2.981e+03 8.103e+03]\n"
          ]
        }
      ]
    },
    {
      "cell_type": "code",
      "source": [
        "# arangeで9つの要素を持つ配列を生成。reshapeで3行3列の行列に再形成\n",
        "sample_multi_array_datal = np.arange(9).reshape(3,3)\n",
        "\n",
        "print(sample_multi_array_datal)\n",
        "\n",
        "print('最小値：', sample_multi_array_datal.min())\n",
        "print('最大値：', sample_multi_array_datal.max())\n",
        "print('平均：', sample_multi_array_datal.mean())\n",
        "print('合計：', sample_multi_array_datal.sum())\n",
        "\n",
        "# 行列を指定して合計値を求める\n",
        "print('行の合計：', sample_multi_array_datal.sum(axis=1))\n",
        "print('列の合計：', sample_multi_array_datal.sum(axis=0))"
      ],
      "metadata": {
        "colab": {
          "base_uri": "https://localhost:8080/"
        },
        "id": "5vM4LyVyO875",
        "outputId": "c7cd2ce7-8b32-46ed-ab76-d96ef9d4c5d7"
      },
      "execution_count": 12,
      "outputs": [
        {
          "output_type": "stream",
          "name": "stdout",
          "text": [
            "[[0 1 2]\n",
            " [3 4 5]\n",
            " [6 7 8]]\n",
            "最小値： 0\n",
            "最大値： 8\n",
            "平均： 4.0\n",
            "合計： 36\n",
            "行の合計： [ 3 12 21]\n",
            "列の合計： [ 9 12 15]\n"
          ]
        }
      ]
    },
    {
      "cell_type": "code",
      "source": [
        "# 真偽値の配列関数\n",
        "cond_data = np.array([True, True, False, False, True])\n",
        "\n",
        "print('Trueが少なくとも1つあるかどうか：', cond_data.any())\n",
        "print('すべてTrueかどうか：', cond_data.all())"
      ],
      "metadata": {
        "colab": {
          "base_uri": "https://localhost:8080/"
        },
        "id": "NOKg7cPAP6_J",
        "outputId": "7a94cc51-414e-4b00-ab80-996c5166ee7f"
      },
      "execution_count": 13,
      "outputs": [
        {
          "output_type": "stream",
          "name": "stdout",
          "text": [
            "Trueが少なくとも1つあるかどうか： True\n",
            "すべてTrueかどうか： False\n"
          ]
        }
      ]
    },
    {
      "cell_type": "code",
      "source": [
        "sample_multi_array_datal = np.arange(9).reshape(3,3)\n",
        "print(sample_multi_array_datal)\n",
        "print('5より大きい数字がいくつあるか：', (sample_multi_array_datal > 5).sum())"
      ],
      "metadata": {
        "colab": {
          "base_uri": "https://localhost:8080/"
        },
        "id": "P_1kmBRnQabI",
        "outputId": "a66f1a57-3bb5-44bc-87c9-0ef97f68906b"
      },
      "execution_count": 14,
      "outputs": [
        {
          "output_type": "stream",
          "name": "stdout",
          "text": [
            "[[0 1 2]\n",
            " [3 4 5]\n",
            " [6 7 8]]\n",
            "5より大きい数字がいくつあるか： 3\n"
          ]
        }
      ]
    },
    {
      "cell_type": "code",
      "source": [
        "# 行列計算\n",
        "sample_multi_array_datal = np.arange(9).reshape(3,3)\n",
        "print(sample_multi_array_datal)\n",
        "\n",
        "print('対角成分：', np.diag(sample_multi_array_datal))\n",
        "print('対角成分の和：', np.trace(sample_multi_array_datal))"
      ],
      "metadata": {
        "colab": {
          "base_uri": "https://localhost:8080/"
        },
        "id": "VImXos9jRaqP",
        "outputId": "8bf176e8-18c8-4c71-ec81-0f441ccddbac"
      },
      "execution_count": 15,
      "outputs": [
        {
          "output_type": "stream",
          "name": "stdout",
          "text": [
            "[[0 1 2]\n",
            " [3 4 5]\n",
            " [6 7 8]]\n",
            "対角成分： [0 4 8]\n",
            "対角成分の和： 12\n"
          ]
        }
      ]
    },
    {
      "cell_type": "code",
      "source": [
        "# データの準備\n",
        "sample_array = np.arange(10)\n",
        "sample_array"
      ],
      "metadata": {
        "colab": {
          "base_uri": "https://localhost:8080/"
        },
        "id": "O9NpAHoaR4MU",
        "outputId": "bd6e9749-0277-4dd0-ffef-81a1e0d75e7f"
      },
      "execution_count": 16,
      "outputs": [
        {
          "output_type": "execute_result",
          "data": {
            "text/plain": [
              "array([0, 1, 2, 3, 4, 5, 6, 7, 8, 9])"
            ]
          },
          "metadata": {},
          "execution_count": 16
        }
      ]
    },
    {
      "cell_type": "code",
      "source": [
        "# 再形成\n",
        "sample_array2 = sample_array.reshape(2,5)\n",
        "sample_array2"
      ],
      "metadata": {
        "colab": {
          "base_uri": "https://localhost:8080/"
        },
        "id": "C6S1s3D2SF4R",
        "outputId": "3f87ddfc-0c38-4469-f21a-9e095df3cced"
      },
      "execution_count": 17,
      "outputs": [
        {
          "output_type": "execute_result",
          "data": {
            "text/plain": [
              "array([[0, 1, 2, 3, 4],\n",
              "       [5, 6, 7, 8, 9]])"
            ]
          },
          "metadata": {},
          "execution_count": 17
        }
      ]
    },
    {
      "cell_type": "code",
      "source": [
        "sample_array2.reshape(5,2)"
      ],
      "metadata": {
        "colab": {
          "base_uri": "https://localhost:8080/"
        },
        "id": "52tyQUc5SQrF",
        "outputId": "afd34ef3-5d24-40bf-8eb6-a09095ac1df7"
      },
      "execution_count": 18,
      "outputs": [
        {
          "output_type": "execute_result",
          "data": {
            "text/plain": [
              "array([[0, 1],\n",
              "       [2, 3],\n",
              "       [4, 5],\n",
              "       [6, 7],\n",
              "       [8, 9]])"
            ]
          },
          "metadata": {},
          "execution_count": 18
        }
      ]
    },
    {
      "cell_type": "code",
      "source": [
        "# データの準備\n",
        "sample_array3 = np.array([[1,2,3],[4,5,6]])\n",
        "sample_array4 = np.array([[7,8,9],[10,11,12]])\n",
        "print(sample_array3)\n",
        "print(sample_array4)\n",
        "\n",
        "# 行方向に結合。パラメータのaxisに0を指定\n",
        "np.concatenate([sample_array3, sample_array4], axis=0)"
      ],
      "metadata": {
        "colab": {
          "base_uri": "https://localhost:8080/"
        },
        "id": "cNn1rg29SXKC",
        "outputId": "a1d1166a-b6c4-44e4-e2b2-f9114163799a"
      },
      "execution_count": 19,
      "outputs": [
        {
          "output_type": "stream",
          "name": "stdout",
          "text": [
            "[[1 2 3]\n",
            " [4 5 6]]\n",
            "[[ 7  8  9]\n",
            " [10 11 12]]\n"
          ]
        },
        {
          "output_type": "execute_result",
          "data": {
            "text/plain": [
              "array([[ 1,  2,  3],\n",
              "       [ 4,  5,  6],\n",
              "       [ 7,  8,  9],\n",
              "       [10, 11, 12]])"
            ]
          },
          "metadata": {},
          "execution_count": 19
        }
      ]
    },
    {
      "cell_type": "code",
      "source": [
        "# vstackを使った行方向結合の方法\n",
        "np.vstack((sample_array3, sample_array4))"
      ],
      "metadata": {
        "colab": {
          "base_uri": "https://localhost:8080/"
        },
        "id": "_MKNz9BsTFDc",
        "outputId": "3f6431f4-689a-4af2-a352-bbfc571c1ae6"
      },
      "execution_count": 20,
      "outputs": [
        {
          "output_type": "execute_result",
          "data": {
            "text/plain": [
              "array([[ 1,  2,  3],\n",
              "       [ 4,  5,  6],\n",
              "       [ 7,  8,  9],\n",
              "       [10, 11, 12]])"
            ]
          },
          "metadata": {},
          "execution_count": 20
        }
      ]
    },
    {
      "cell_type": "code",
      "source": [
        "# 列方向に統合\n",
        "np.concatenate([sample_array3, sample_array4], axis=1)"
      ],
      "metadata": {
        "colab": {
          "base_uri": "https://localhost:8080/"
        },
        "id": "95VbjxvfTWm3",
        "outputId": "bee83190-fa3c-4684-938c-34618689bef7"
      },
      "execution_count": 21,
      "outputs": [
        {
          "output_type": "execute_result",
          "data": {
            "text/plain": [
              "array([[ 1,  2,  3,  7,  8,  9],\n",
              "       [ 4,  5,  6, 10, 11, 12]])"
            ]
          },
          "metadata": {},
          "execution_count": 21
        }
      ]
    },
    {
      "cell_type": "code",
      "source": [
        "np.hstack((sample_array3, sample_array4))"
      ],
      "metadata": {
        "colab": {
          "base_uri": "https://localhost:8080/"
        },
        "id": "aNvyi--YTev_",
        "outputId": "a7609c15-80c3-4e83-f777-740ef28d9240"
      },
      "execution_count": 22,
      "outputs": [
        {
          "output_type": "execute_result",
          "data": {
            "text/plain": [
              "array([[ 1,  2,  3,  7,  8,  9],\n",
              "       [ 4,  5,  6, 10, 11, 12]])"
            ]
          },
          "metadata": {},
          "execution_count": 22
        }
      ]
    },
    {
      "cell_type": "code",
      "source": [
        "# データの用意\n",
        "sample_array3 = np.array([[1,2,3],[4,5,6]])\n",
        "sample_array4 = np.array([[7,8,9],[10,11,12]])\n",
        "sample_array_vstack = np.vstack((sample_array3, sample_array4))\n",
        "# 作成したデータsample_array_vstackを表示\n",
        "sample_array_vstack"
      ],
      "metadata": {
        "colab": {
          "base_uri": "https://localhost:8080/"
        },
        "id": "JEbWi3c-TjSK",
        "outputId": "711f8ac4-8c90-401b-aebf-8a1ed4b5d1c6"
      },
      "execution_count": 23,
      "outputs": [
        {
          "output_type": "execute_result",
          "data": {
            "text/plain": [
              "array([[ 1,  2,  3],\n",
              "       [ 4,  5,  6],\n",
              "       [ 7,  8,  9],\n",
              "       [10, 11, 12]])"
            ]
          },
          "metadata": {},
          "execution_count": 23
        }
      ]
    },
    {
      "cell_type": "code",
      "source": [
        "# sample_array_vstackを3つに分割し、first、second、tfirdという3つの変数に代入\n",
        "first, second, third = np.split(sample_array_vstack, [1,3])\n",
        "\n",
        "# firstの表示\n",
        "print(first)"
      ],
      "metadata": {
        "colab": {
          "base_uri": "https://localhost:8080/"
        },
        "id": "Vza_Q_HRT70c",
        "outputId": "7da8746e-d823-4961-de43-13e40360a64b"
      },
      "execution_count": 24,
      "outputs": [
        {
          "output_type": "stream",
          "name": "stdout",
          "text": [
            "[[1 2 3]]\n"
          ]
        }
      ]
    },
    {
      "cell_type": "code",
      "source": [
        "# secondの表示\n",
        "print(second)"
      ],
      "metadata": {
        "colab": {
          "base_uri": "https://localhost:8080/"
        },
        "id": "ylaemm1oUi7R",
        "outputId": "cff8a5e3-320d-4ebb-f709-7caa051f59d6"
      },
      "execution_count": 25,
      "outputs": [
        {
          "output_type": "stream",
          "name": "stdout",
          "text": [
            "[[4 5 6]\n",
            " [7 8 9]]\n"
          ]
        }
      ]
    },
    {
      "cell_type": "code",
      "source": [
        "# secondの最初の要素を取り出す\n",
        "second[0]"
      ],
      "metadata": {
        "colab": {
          "base_uri": "https://localhost:8080/"
        },
        "id": "uz6XI1VnUpRu",
        "outputId": "9f942224-aca4-442a-c8c1-6d8412841dee"
      },
      "execution_count": 26,
      "outputs": [
        {
          "output_type": "execute_result",
          "data": {
            "text/plain": [
              "array([4, 5, 6])"
            ]
          },
          "metadata": {},
          "execution_count": 26
        }
      ]
    },
    {
      "cell_type": "code",
      "source": [
        "# thirdの表示\n",
        "print(third)"
      ],
      "metadata": {
        "colab": {
          "base_uri": "https://localhost:8080/"
        },
        "id": "gZu3o_4aUzge",
        "outputId": "3e9b8419-12a3-4cc1-b59c-e0f56a99566f"
      },
      "execution_count": 27,
      "outputs": [
        {
          "output_type": "stream",
          "name": "stdout",
          "text": [
            "[[10 11 12]]\n"
          ]
        }
      ]
    },
    {
      "cell_type": "code",
      "source": [
        "# データの用意\n",
        "sample_array5 = ([13, 14, 15], [16, 17, 18], [19, 20,21])\n",
        "sample_array_vstack2 = np.vstack((sample_array3, sample_array4, sample_array5))\n",
        "# 元のデータ\n",
        "print(sample_array_vstack2)"
      ],
      "metadata": {
        "colab": {
          "base_uri": "https://localhost:8080/"
        },
        "id": "quQgfZrHU6FG",
        "outputId": "044e24c5-b728-47ed-e341-d74a27efb82d"
      },
      "execution_count": 28,
      "outputs": [
        {
          "output_type": "stream",
          "name": "stdout",
          "text": [
            "[[ 1  2  3]\n",
            " [ 4  5  6]\n",
            " [ 7  8  9]\n",
            " [10 11 12]\n",
            " [13 14 15]\n",
            " [16 17 18]\n",
            " [19 20 21]]\n"
          ]
        }
      ]
    },
    {
      "cell_type": "code",
      "source": [
        "# sample_array_vstack2を∼2,2,3∼4,5∼の4つに分割しfirst、second、third、forthに代入する\n",
        "first, second, third, forth = np.split(sample_array_vstack2, [2, 3, 5])\n",
        "print('・1つ目：\\n', first, '\\n')\n",
        "print('・2つ目：\\n', second, '\\n')\n",
        "print('・3つ目：\\n', third, '\\n')\n",
        "print('・4つ目：\\n', forth, '\\n')"
      ],
      "metadata": {
        "colab": {
          "base_uri": "https://localhost:8080/"
        },
        "id": "T-qXVXnZVXRX",
        "outputId": "a8a6ff6a-927f-492c-c359-893a2688ae0e"
      },
      "execution_count": 29,
      "outputs": [
        {
          "output_type": "stream",
          "name": "stdout",
          "text": [
            "・1つ目：\n",
            " [[1 2 3]\n",
            " [4 5 6]] \n",
            "\n",
            "・2つ目：\n",
            " [[7 8 9]] \n",
            "\n",
            "・3つ目：\n",
            " [[10 11 12]\n",
            " [13 14 15]] \n",
            "\n",
            "・4つ目：\n",
            " [[16 17 18]\n",
            " [19 20 21]] \n",
            "\n"
          ]
        }
      ]
    },
    {
      "cell_type": "code",
      "source": [
        "first[0]"
      ],
      "metadata": {
        "colab": {
          "base_uri": "https://localhost:8080/"
        },
        "id": "o_yaVpA0WPkZ",
        "outputId": "2b811ebd-372a-4f5a-96a4-7ab93277e1f3"
      },
      "execution_count": 30,
      "outputs": [
        {
          "output_type": "execute_result",
          "data": {
            "text/plain": [
              "array([1, 2, 3])"
            ]
          },
          "metadata": {},
          "execution_count": 30
        }
      ]
    },
    {
      "cell_type": "code",
      "source": [
        "first[1]"
      ],
      "metadata": {
        "colab": {
          "base_uri": "https://localhost:8080/"
        },
        "id": "JphvSGDhWS-L",
        "outputId": "624eb2a8-092a-447d-9e7c-e9589f95cbcc"
      },
      "execution_count": 31,
      "outputs": [
        {
          "output_type": "execute_result",
          "data": {
            "text/plain": [
              "array([4, 5, 6])"
            ]
          },
          "metadata": {},
          "execution_count": 31
        }
      ]
    },
    {
      "cell_type": "code",
      "source": [
        "# repeatを使うと、各要素が指定した回数だけ繰り返されて生成される\n",
        "first.repeat(5)"
      ],
      "metadata": {
        "colab": {
          "base_uri": "https://localhost:8080/"
        },
        "id": "hR0IbDQBWYOx",
        "outputId": "e1e5b0d4-8073-4de1-ca8c-e2e0ed826738"
      },
      "execution_count": 32,
      "outputs": [
        {
          "output_type": "execute_result",
          "data": {
            "text/plain": [
              "array([1, 1, 1, 1, 1, 2, 2, 2, 2, 2, 3, 3, 3, 3, 3, 4, 4, 4, 4, 4, 5, 5,\n",
              "       5, 5, 5, 6, 6, 6, 6, 6])"
            ]
          },
          "metadata": {},
          "execution_count": 32
        }
      ]
    },
    {
      "cell_type": "code",
      "source": [
        "# データの準備\n",
        "sample_array = np.arange(10)\n",
        "print(sample_array)"
      ],
      "metadata": {
        "colab": {
          "base_uri": "https://localhost:8080/"
        },
        "id": "u97dlVK_WnUn",
        "outputId": "a31a3159-9331-424d-ec3a-1aa2ffede164"
      },
      "execution_count": 33,
      "outputs": [
        {
          "output_type": "stream",
          "name": "stdout",
          "text": [
            "[0 1 2 3 4 5 6 7 8 9]\n"
          ]
        }
      ]
    },
    {
      "cell_type": "code",
      "source": [
        "sample_array + 3"
      ],
      "metadata": {
        "colab": {
          "base_uri": "https://localhost:8080/"
        },
        "id": "78KyJEgkWvy3",
        "outputId": "cbbd300f-682b-4eb0-bf30-b02d7749437f"
      },
      "execution_count": 34,
      "outputs": [
        {
          "output_type": "execute_result",
          "data": {
            "text/plain": [
              "array([ 3,  4,  5,  6,  7,  8,  9, 10, 11, 12])"
            ]
          },
          "metadata": {},
          "execution_count": 34
        }
      ]
    },
    {
      "cell_type": "markdown",
      "source": [
        "# chapter 5-3 Scipyを使った計算の応用"
      ],
      "metadata": {
        "id": "8y-4UCqdNC4S"
      }
    },
    {
      "cell_type": "code",
      "source": [
        "# xとして、linspaceで、開始が0、終了が10、項目が11つの等間隔数列を生成\n",
        "x = np.linspace(0, 10, num = 11, endpoint = True)\n",
        "# yの値を生成\n",
        "y = np.cos(-x**2/5.0)\n",
        "plt.plot(x,y,'o')\n",
        "plt.grid(True)"
      ],
      "metadata": {
        "colab": {
          "base_uri": "https://localhost:8080/",
          "height": 430
        },
        "id": "WKieNN_7NLfJ",
        "outputId": "d3de8b59-4dda-4a7d-8b4c-503a547a72cb"
      },
      "execution_count": 35,
      "outputs": [
        {
          "output_type": "display_data",
          "data": {
            "text/plain": [
              "<Figure size 640x480 with 1 Axes>"
            ],
            "image/png": "[encoded data removed]"
          },
          "metadata": {}
        }
      ]
    },
    {
      "cell_type": "code",
      "source": [
        "from scipy import interpolate\n",
        "\n",
        "# 線形補完。interpldのパラメータとして「linear」を指定する\n",
        "f = interpolate.interp1d(x,y,'linear')\n",
        "plt.plot(x,f(x),'-')\n",
        "plt.grid(True)"
      ],
      "metadata": {
        "colab": {
          "base_uri": "https://localhost:8080/",
          "height": 430
        },
        "id": "4jWiQVPYOXVf",
        "outputId": "7a1853aa-4a70-4da1-9b5d-b243a277ee25"
      },
      "execution_count": 36,
      "outputs": [
        {
          "output_type": "display_data",
          "data": {
            "text/plain": [
              "<Figure size 640x480 with 1 Axes>"
            ],
            "image/png": "[encoded data removed]"
          },
          "metadata": {}
        }
      ]
    },
    {
      "cell_type": "code",
      "source": [
        "# スプライン3次補完を計算してf2として追加する。パラメータに「cubic」を指定する\n",
        "f2 = interpolate.interp1d(x,y,'cubic')\n",
        "\n",
        "# 曲線を出すために、xの値を細かくする\n",
        "xnew = np.linspace(0, 10, num=30, endpoint=True)\n",
        "\n",
        "# グラフ化。fを直線で描き、f2をを点線で描く\n",
        "plt.plot(x,y,'o',xnew,f(xnew),'-',xnew,f2(xnew), '--')\n",
        "\n",
        "# 凡例\n",
        "plt.legend(['data', 'linear', 'cubic'], loc='best')\n",
        "plt.grid(True)"
      ],
      "metadata": {
        "colab": {
          "base_uri": "https://localhost:8080/",
          "height": 430
        },
        "id": "iIqM_AwAO7yc",
        "outputId": "ad98f112-d0a3-4c5d-84e5-5b35dcb4ae83"
      },
      "execution_count": 37,
      "outputs": [
        {
          "output_type": "display_data",
          "data": {
            "text/plain": [
              "<Figure size 640x480 with 1 Axes>"
            ],
            "image/png": "[encoded data removed]"
          },
          "metadata": {}
        }
      ]
    },
    {
      "cell_type": "code",
      "source": [
        "# (2,5)行列\n",
        "A = np.array([[1,2,3,4,5],[6,7,8,9,10]])\n",
        "\n",
        "# 特異値分解の関数linalg.svd\n",
        "U, s, Vs, = sp.linalg.svd(A)\n",
        "m, n = A.shape\n",
        "\n",
        "S = sp.linalg.diagsvd(s, m, n)\n",
        "\n",
        "print('U.S.V* = \\n', U@S@Vs)"
      ],
      "metadata": {
        "colab": {
          "base_uri": "https://localhost:8080/"
        },
        "id": "JoJys51tQgfk",
        "outputId": "4cfa6a71-f5ac-4bab-aafc-2a45a519bc62"
      },
      "execution_count": 39,
      "outputs": [
        {
          "output_type": "stream",
          "name": "stdout",
          "text": [
            "U.S.V* = \n",
            " [[ 1.  2.  3.  4.  5.]\n",
            " [ 6.  7.  8.  9. 10.]]\n"
          ]
        }
      ]
    },
    {
      "cell_type": "code",
      "source": [
        "# データの準備\n",
        "A = np.identity(5)\n",
        "A[0,:] = 1\n",
        "A[:,0] = 1\n",
        "A[0,0] = 5\n",
        "b = np.ones(5)\n",
        "\n",
        "# 正方行列をLU分解する\n",
        "(LU,piv) = sp.linalg.lu_factor(A)\n",
        "\n",
        "L = np.identity(5) + np.tril(LU, -1)\n",
        "U = np.triu(LU)\n",
        "P = np.identity(5)[piv]\n",
        "\n",
        "# 解を求める\n",
        "x = sp.linalg.lu_solve((LU,piv), b)\n",
        "x"
      ],
      "metadata": {
        "colab": {
          "base_uri": "https://localhost:8080/"
        },
        "id": "xpbnMTTzRg_A",
        "outputId": "98d07a23-7679-4f5a-fd9b-ff66d7d55f5a"
      },
      "execution_count": 42,
      "outputs": [
        {
          "output_type": "execute_result",
          "data": {
            "text/plain": [
              "array([-3.,  4.,  4.,  4.,  4.])"
            ]
          },
          "metadata": {},
          "execution_count": 42
        }
      ]
    },
    {
      "cell_type": "code",
      "source": [
        "A = np.array([[7, -1, 0, 1],\n",
        "              [-1, 9, -2, 2],\n",
        "              [0, -2, 8, -3],\n",
        "              [1, 2, -3, 10]])\n",
        "b = np.array([5, 20, 0, 20])\n",
        "\n",
        "L = sp.linalg.cholesky(A)\n",
        "\n",
        "t = sp.linalg.solve(L.T.conj(), b)\n",
        "x = sp.linalg.solve(L, t)\n",
        "\n",
        "# 解答\n",
        "print(x)"
      ],
      "metadata": {
        "colab": {
          "base_uri": "https://localhost:8080/"
        },
        "id": "WsOy6mZXSwH_",
        "outputId": "6bfbc549-d4f2-4117-a7ae-80eccc3acb11"
      },
      "execution_count": 43,
      "outputs": [
        {
          "output_type": "stream",
          "name": "stdout",
          "text": [
            "[0.758 2.168 1.241 1.863]\n"
          ]
        }
      ]
    },
    {
      "cell_type": "code",
      "source": [
        "# 確認\n",
        "np.dot(A,x)"
      ],
      "metadata": {
        "colab": {
          "base_uri": "https://localhost:8080/"
        },
        "id": "G7J-N-NDThG4",
        "outputId": "11b77b90-4dc9-4272-abd2-9a97c24586d3"
      },
      "execution_count": 44,
      "outputs": [
        {
          "output_type": "execute_result",
          "data": {
            "text/plain": [
              "array([5.000e+00, 2.000e+01, 3.553e-15, 2.000e+01])"
            ]
          },
          "metadata": {},
          "execution_count": 44
        }
      ]
    },
    {
      "cell_type": "code",
      "source": [
        "# NMFを使う\n",
        "from sklearn.decomposition import NMF\n",
        "\n",
        "# 分解対象行列\n",
        "X = np.array([[1,1,1], [2,2,2], [3,3,3], [4,4,4]])\n",
        "\n",
        "model = NMF(n_components=2, init='random', random_state=0)\n",
        "\n",
        "W = model.fit_transform(X)\n",
        "H = model.components_\n",
        "W"
      ],
      "metadata": {
        "colab": {
          "base_uri": "https://localhost:8080/"
        },
        "id": "ygYEYD3KTrLb",
        "outputId": "9c1ab617-94eb-4175-e8d6-6daebc1761d6"
      },
      "execution_count": 45,
      "outputs": [
        {
          "output_type": "execute_result",
          "data": {
            "text/plain": [
              "array([[0.425, 0.222],\n",
              "       [0.698, 0.537],\n",
              "       [0.039, 1.434],\n",
              "       [2.377, 0.463]])"
            ]
          },
          "metadata": {},
          "execution_count": 45
        }
      ]
    },
    {
      "cell_type": "code",
      "source": [
        "H"
      ],
      "metadata": {
        "colab": {
          "base_uri": "https://localhost:8080/"
        },
        "id": "5lv8KrjZUXMQ",
        "outputId": "11d69535-4c7d-48ef-d51f-58f75183cbba"
      },
      "execution_count": 46,
      "outputs": [
        {
          "output_type": "execute_result",
          "data": {
            "text/plain": [
              "array([[1.281, 1.281, 1.282],\n",
              "       [2.058, 2.058, 2.058]])"
            ]
          },
          "metadata": {},
          "execution_count": 46
        }
      ]
    },
    {
      "cell_type": "code",
      "source": [
        "np.dot(W,H) # W@Hでもよい"
      ],
      "metadata": {
        "colab": {
          "base_uri": "https://localhost:8080/"
        },
        "id": "piiCQfTvUY3b",
        "outputId": "a3cf9e62-2f57-4d74-dff4-8e84d1fd4a22"
      },
      "execution_count": 47,
      "outputs": [
        {
          "output_type": "execute_result",
          "data": {
            "text/plain": [
              "array([[1., 1., 1.],\n",
              "       [2., 2., 2.],\n",
              "       [3., 3., 3.],\n",
              "       [4., 4., 4.]])"
            ]
          },
          "metadata": {},
          "execution_count": 47
        }
      ]
    },
    {
      "cell_type": "code",
      "source": [
        "# 積分計算\n",
        "from scipy import integrate\n",
        "import math"
      ],
      "metadata": {
        "id": "Xq82KcSLUh3q"
      },
      "execution_count": 48,
      "outputs": []
    },
    {
      "cell_type": "code",
      "source": [
        "def calcPi(x):\n",
        "  return 4/(1+x**2)"
      ],
      "metadata": {
        "id": "llxQ5I5PUtst"
      },
      "execution_count": 49,
      "outputs": []
    },
    {
      "cell_type": "code",
      "source": [
        "# 計算結果と推定誤差\n",
        "integrate.quad(calcPi, 0, 1)"
      ],
      "metadata": {
        "colab": {
          "base_uri": "https://localhost:8080/"
        },
        "id": "vKWHiWKAU3wV",
        "outputId": "0c00c52f-c0c9-4435-902a-71af68312c8e"
      },
      "execution_count": 50,
      "outputs": [
        {
          "output_type": "execute_result",
          "data": {
            "text/plain": [
              "(3.142, 0.000)"
            ]
          },
          "metadata": {},
          "execution_count": 50
        }
      ]
    },
    {
      "cell_type": "code",
      "source": [
        "# 無名関数で書くことも可能\n",
        "integrate.quad(lambda x: 4/(1+x**2), 0,1)"
      ],
      "metadata": {
        "colab": {
          "base_uri": "https://localhost:8080/"
        },
        "id": "Oua7UhmaVCZU",
        "outputId": "b69d224b-b731-4370-ef68-3426a54b6866"
      },
      "execution_count": 51,
      "outputs": [
        {
          "output_type": "execute_result",
          "data": {
            "text/plain": [
              "(3.142, 0.000)"
            ]
          },
          "metadata": {},
          "execution_count": 51
        }
      ]
    },
    {
      "cell_type": "code",
      "source": [
        "from numpy import sin\n",
        "integrate.quad(sin, 0, math.pi/1)"
      ],
      "metadata": {
        "colab": {
          "base_uri": "https://localhost:8080/"
        },
        "id": "Bb_CVDbQVWW9",
        "outputId": "91d3f4f7-a3cc-4995-c2e8-adc612ce79be"
      },
      "execution_count": 52,
      "outputs": [
        {
          "output_type": "execute_result",
          "data": {
            "text/plain": [
              "(2.000, 0.000)"
            ]
          },
          "metadata": {},
          "execution_count": 52
        }
      ]
    },
    {
      "cell_type": "code",
      "source": [
        "# 2重積分\n",
        "def I(n):\n",
        "  return integrate.dblquad(lambda t, x: np.exp(-x*t)/t**n, 0, np.inf, lambda x: 1, lambda x: np.inf)\n",
        "print('n=1の時:', I(1))\n",
        "print('n=2の時:', I(2))\n",
        "print('n=3の時:', I(3))\n",
        "print('n=4の時:', I(4))"
      ],
      "metadata": {
        "colab": {
          "base_uri": "https://localhost:8080/"
        },
        "id": "aOIuWvQ2WfMY",
        "outputId": "2a891cdc-9b95-4482-aaa2-60502546153b"
      },
      "execution_count": 54,
      "outputs": [
        {
          "output_type": "stream",
          "name": "stdout",
          "text": [
            "n=1の時: (1.0000000000048965, 6.360750360104306e-08)\n",
            "n=2の時: (0.4999999999985751, 1.3894083651858995e-08)\n",
            "n=3の時: (0.33333333325010883, 1.3888461883425516e-08)\n",
            "n=4の時: (0.2500000000043577, 1.2983033469368098e-08)\n"
          ]
        }
      ]
    },
    {
      "cell_type": "code",
      "source": [
        "# モジュールの読み込み\n",
        "import numpy as np\n",
        "from scipy.integrate import odeint\n",
        "import matplotlib.pyplot as plt\n",
        "from mpl_toolkits.mplot3d import Axes3D\n",
        "\n",
        "# ローレンツ方程式\n",
        "def lorenz_func(v, t, p, r,b):\n",
        "  return [-p*v[0]+p*v[1], -v[0]*v[2]+r*v[0]-v[1], v[0]*v[1]-b*v[2]]"
      ],
      "metadata": {
        "id": "LiXWvDNQXzzn"
      },
      "execution_count": 58,
      "outputs": []
    },
    {
      "cell_type": "code",
      "source": [
        "# パラメータの設定\n",
        "p = 10\n",
        "r = 28\n",
        "b = 8/3\n",
        "v0 = [0.1, 0.1, 0.1]\n",
        "t = np.arange(0, 100, 0.01)\n",
        "\n",
        "# 関数の呼び出し\n",
        "v = odeint(lorenz_func, v0, t, args=(p, r, b))\n",
        "\n",
        "# 可視化\n",
        "fig = plt.figure()\n",
        "ax = fig.gca(projection='3d')\n",
        "ax.plot(v[:,0], v[:,1], v[:,2])\n",
        "\n",
        "# ラベルなど\n",
        "plt.title('Lorenz')\n",
        "plt.grid(True)"
      ],
      "metadata": {
        "colab": {
          "base_uri": "https://localhost:8080/",
          "height": 235
        },
        "id": "uibq1uxzY1gO",
        "outputId": "ad56e2b1-e2db-4996-96d9-67358e31911b"
      },
      "execution_count": 69,
      "outputs": [
        {
          "output_type": "error",
          "ename": "TypeError",
          "evalue": "FigureBase.gca() got an unexpected keyword argument 'projection'",
          "traceback": [
            "\u001b[0;31m---------------------------------------------------------------------------\u001b[0m",
            "\u001b[0;31mTypeError\u001b[0m                                 Traceback (most recent call last)",
            "\u001b[0;32m<ipython-input-69-08477e824fa2>\u001b[0m in \u001b[0;36m<cell line: 13>\u001b[0;34m()\u001b[0m\n\u001b[1;32m     11\u001b[0m \u001b[0;31m# 可視化\u001b[0m\u001b[0;34m\u001b[0m\u001b[0;34m\u001b[0m\u001b[0m\n\u001b[1;32m     12\u001b[0m \u001b[0mfig\u001b[0m \u001b[0;34m=\u001b[0m \u001b[0mplt\u001b[0m\u001b[0;34m.\u001b[0m\u001b[0mfigure\u001b[0m\u001b[0;34m(\u001b[0m\u001b[0;34m)\u001b[0m\u001b[0;34m\u001b[0m\u001b[0;34m\u001b[0m\u001b[0m\n\u001b[0;32m---> 13\u001b[0;31m \u001b[0max\u001b[0m \u001b[0;34m=\u001b[0m \u001b[0mfig\u001b[0m\u001b[0;34m.\u001b[0m\u001b[0mgca\u001b[0m\u001b[0;34m(\u001b[0m\u001b[0mprojection\u001b[0m\u001b[0;34m=\u001b[0m\u001b[0;34m'3d'\u001b[0m\u001b[0;34m)\u001b[0m\u001b[0;34m\u001b[0m\u001b[0;34m\u001b[0m\u001b[0m\n\u001b[0m\u001b[1;32m     14\u001b[0m \u001b[0max\u001b[0m\u001b[0;34m.\u001b[0m\u001b[0mplot\u001b[0m\u001b[0;34m(\u001b[0m\u001b[0mv\u001b[0m\u001b[0;34m[\u001b[0m\u001b[0;34m:\u001b[0m\u001b[0;34m,\u001b[0m\u001b[0;36m0\u001b[0m\u001b[0;34m]\u001b[0m\u001b[0;34m,\u001b[0m \u001b[0mv\u001b[0m\u001b[0;34m[\u001b[0m\u001b[0;34m:\u001b[0m\u001b[0;34m,\u001b[0m\u001b[0;36m1\u001b[0m\u001b[0;34m]\u001b[0m\u001b[0;34m,\u001b[0m \u001b[0mv\u001b[0m\u001b[0;34m[\u001b[0m\u001b[0;34m:\u001b[0m\u001b[0;34m,\u001b[0m\u001b[0;36m2\u001b[0m\u001b[0;34m]\u001b[0m\u001b[0;34m)\u001b[0m\u001b[0;34m\u001b[0m\u001b[0;34m\u001b[0m\u001b[0m\n\u001b[1;32m     15\u001b[0m \u001b[0;34m\u001b[0m\u001b[0m\n",
            "\u001b[0;31mTypeError\u001b[0m: FigureBase.gca() got an unexpected keyword argument 'projection'"
          ]
        },
        {
          "output_type": "display_data",
          "data": {
            "text/plain": [
              "<Figure size 640x480 with 0 Axes>"
            ]
          },
          "metadata": {}
        }
      ]
    },
    {
      "cell_type": "code",
      "source": [
        "from scipy.optimize import fsolve"
      ],
      "metadata": {
        "id": "0ZtAhWYRd6h3"
      },
      "execution_count": 70,
      "outputs": []
    },
    {
      "cell_type": "code",
      "source": [
        "def f(x):\n",
        "  y = 2 * x**2 + 2 * x -10\n",
        "  return y"
      ],
      "metadata": {
        "id": "da4AmSRaeDPe"
      },
      "execution_count": 71,
      "outputs": []
    },
    {
      "cell_type": "code",
      "source": [
        "# グラフ化してみる\n",
        "x = np.linspace(-4,4)\n",
        "plt.plot(x, f(x))\n",
        "plt.plot(x, np.zeros(len(x)))\n",
        "plt.grid(True)"
      ],
      "metadata": {
        "colab": {
          "base_uri": "https://localhost:8080/",
          "height": 430
        },
        "id": "lyk2RCLLeOFd",
        "outputId": "a4bcc579-d72c-4042-b3d8-26b20ef9ff5a"
      },
      "execution_count": 72,
      "outputs": [
        {
          "output_type": "display_data",
          "data": {
            "text/plain": [
              "<Figure size 640x480 with 1 Axes>"
            ],
            "image/png": "[encoded data removed]"
          },
          "metadata": {}
        }
      ]
    },
    {
      "cell_type": "code",
      "source": [
        "# x = 2 付近\n",
        "x =fsolve(f, 2)\n",
        "print(x)"
      ],
      "metadata": {
        "colab": {
          "base_uri": "https://localhost:8080/"
        },
        "id": "ZRM7npjqefuG",
        "outputId": "cca8de2a-f17e-49ca-c887-72bac7148e21"
      },
      "execution_count": 73,
      "outputs": [
        {
          "output_type": "stream",
          "name": "stdout",
          "text": [
            "[1.791]\n"
          ]
        }
      ]
    },
    {
      "cell_type": "code",
      "source": [
        "# x = -3 付近\n",
        "x =fsolve(f, -3)\n",
        "print(x)"
      ],
      "metadata": {
        "colab": {
          "base_uri": "https://localhost:8080/"
        },
        "id": "9hM95Xnxen-J",
        "outputId": "15c01be7-8331-4436-c6d9-ec298c804923"
      },
      "execution_count": 74,
      "outputs": [
        {
          "output_type": "stream",
          "name": "stdout",
          "text": [
            "[-2.791]\n"
          ]
        }
      ]
    },
    {
      "cell_type": "code",
      "source": [
        "from scipy.optimize import minimize"
      ],
      "metadata": {
        "id": "K-pj1SJ3h7_E"
      },
      "execution_count": 80,
      "outputs": []
    },
    {
      "cell_type": "code",
      "source": [
        "# 目的となる関数\n",
        "def objective(x):\n",
        "  x1 = x[0]\n",
        "  x2 = x[1]\n",
        "  x3 = x[2]\n",
        "  x4 = x[3]\n",
        "  return x1*x4*(x1+x2+x3)+x3"
      ],
      "metadata": {
        "id": "sdWm3v3YevQk"
      },
      "execution_count": 88,
      "outputs": []
    },
    {
      "cell_type": "code",
      "source": [
        "# 制約式その1\n",
        "def constraint1(x):\n",
        "  return x[0]*x[1]*x[2]*x[3]-25.0\n",
        "\n",
        "# 制約式その2\n",
        "def constraint2(x):\n",
        "  sum_sq = 40\n",
        "  for i in range(4):\n",
        "    sum_sq = sum_sq - x[i]**2\n",
        "  return sum_sq\n",
        "\n",
        "# 初期化\n",
        "x0 = [1, 5, 5, 1]\n",
        "print(objective(x0))"
      ],
      "metadata": {
        "colab": {
          "base_uri": "https://localhost:8080/"
        },
        "id": "ZIOEm6n4fM8q",
        "outputId": "8a79becd-d131-4bfc-8204-c05c5ffaadd8"
      },
      "execution_count": 89,
      "outputs": [
        {
          "output_type": "stream",
          "name": "stdout",
          "text": [
            "16\n"
          ]
        }
      ]
    },
    {
      "cell_type": "code",
      "source": [
        "b = (1.0, 5.0)\n",
        "bnds = (b, b, b, b)\n",
        "con1 = {'type':'ineq', 'fun':constraint1}\n",
        "con2 = {'type':'ineq', 'fun':constraint2}\n",
        "cons = [con1, con2]"
      ],
      "metadata": {
        "id": "ROYS-8wMjjR1"
      },
      "execution_count": 90,
      "outputs": []
    },
    {
      "cell_type": "code",
      "source": [
        "sol = minimize(objective, x0, method='SLSQP', bounds=bnds, constraints=cons)\n",
        "print(sol)"
      ],
      "metadata": {
        "colab": {
          "base_uri": "https://localhost:8080/"
        },
        "id": "ncaesoWIkSsh",
        "outputId": "34732e9a-a8ac-4c0b-febd-8946ee8a9577"
      },
      "execution_count": 94,
      "outputs": [
        {
          "output_type": "stream",
          "name": "stdout",
          "text": [
            " message: Optimization terminated successfully\n",
            " success: True\n",
            "  status: 0\n",
            "     fun: 17.014017245446883\n",
            "       x: [ 1.000e+00  4.743e+00  3.821e+00  1.379e+00]\n",
            "     nit: 5\n",
            "     jac: [ 1.457e+01  1.379e+00  2.379e+00  9.564e+00]\n",
            "    nfev: 25\n",
            "    njev: 5\n"
          ]
        }
      ]
    },
    {
      "cell_type": "code",
      "source": [
        "print('Y:',sol.fun)\n",
        "print('X:',sol.x)"
      ],
      "metadata": {
        "colab": {
          "base_uri": "https://localhost:8080/"
        },
        "id": "tSPLy8IYmE3M",
        "outputId": "e6c10b88-a3ba-4bcb-8871-9669f6898eb0"
      },
      "execution_count": 95,
      "outputs": [
        {
          "output_type": "stream",
          "name": "stdout",
          "text": [
            "Y: 17.014017245446883\n",
            "X: [1.    4.743 3.821 1.379]\n"
          ]
        }
      ]
    }
  ]
}