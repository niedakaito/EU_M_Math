{
  "nbformat": 4,
  "nbformat_minor": 0,
  "metadata": {
    "colab": {
      "provenance": [],
      "toc_visible": true,
      "authorship_tag": "ABX9TyOXiQWRv4SgwMl4q8OqWwbH",
      "include_colab_link": true
    },
    "kernelspec": {
      "name": "python3",
      "display_name": "Python 3"
    },
    "language_info": {
      "name": "python"
    }
  },
  "cells": [
    {
      "cell_type": "markdown",
      "metadata": {
        "id": "view-in-github",
        "colab_type": "text"
      },
      "source": [
        "<a href=\"https://colab.research.google.com/github/niedakaito/EU_M_Math/blob/main/Chap05_example.ipynb\" target=\"_parent\"><img src=\"https://colab.research.google.com/assets/colab-badge.svg\" alt=\"Open In Colab\"/></a>"
      ]
    },
    {
      "cell_type": "markdown",
      "source": [
        "# chapter 5-1 概要と事前準備"
      ],
      "metadata": {
        "id": "lbimrlc4I-pl"
      }
    },
    {
      "cell_type": "code",
      "execution_count": 1,
      "metadata": {
        "colab": {
          "base_uri": "https://localhost:8080/",
          "height": 36
        },
        "id": "dqEaZ3E9IrfX",
        "outputId": "f03a51da-60c8-488d-b3ae-b00a64ddc734"
      },
      "outputs": [
        {
          "output_type": "execute_result",
          "data": {
            "text/plain": [
              "'%.3f'"
            ],
            "application/vnd.google.colaboratory.intrinsic+json": {
              "type": "string"
            }
          },
          "metadata": {},
          "execution_count": 1
        }
      ],
      "source": [
        "# 以下のライブラリを使う\n",
        "import numpy as np\n",
        "import numpy.random as random\n",
        "import scipy as sp\n",
        "\n",
        "# 可視化ライブラリ\n",
        "import matplotlib.pyplot as plt\n",
        "import matplotlib as mpl\n",
        "%matplotlib inline\n",
        "\n",
        "# 小数第3位まで表示\n",
        "%precision 3"
      ]
    },
    {
      "cell_type": "markdown",
      "source": [
        "# chapter 5-2 Numpyを使った計算の応用"
      ],
      "metadata": {
        "id": "n9CS_UraORFL"
      }
    },
    {
      "cell_type": "code",
      "source": [
        "sample_array = np.arange(10)\n",
        "print('sample_array:', sample_array)"
      ],
      "metadata": {
        "colab": {
          "base_uri": "https://localhost:8080/"
        },
        "id": "aH-hWkRaJ8BY",
        "outputId": "6e37dfd1-e0e9-4a02-9d5f-973c5892085b"
      },
      "execution_count": 2,
      "outputs": [
        {
          "output_type": "stream",
          "name": "stdout",
          "text": [
            "sample_array: [0 1 2 3 4 5 6 7 8 9]\n"
          ]
        }
      ]
    },
    {
      "cell_type": "code",
      "source": [
        "# 元データ\n",
        "print(sample_array)\n",
        "\n",
        "# 前から数字を5つ取得して、sample_array_sliceに入れる\n",
        "sample_array_slice = sample_array[0:5]\n",
        "print(sample_array_slice)"
      ],
      "metadata": {
        "colab": {
          "base_uri": "https://localhost:8080/"
        },
        "id": "b5CK5nAYKQYn",
        "outputId": "6a7a6e57-4511-4b7e-b0d4-e8f1e3de5e6d"
      },
      "execution_count": 3,
      "outputs": [
        {
          "output_type": "stream",
          "name": "stdout",
          "text": [
            "[0 1 2 3 4 5 6 7 8 9]\n",
            "[0 1 2 3 4]\n"
          ]
        }
      ]
    },
    {
      "cell_type": "code",
      "source": [
        "# sample_array_sliceの3文字目までは、10で置換\n",
        "sample_array_slice[0:3] = 10\n",
        "print(sample_array_slice)\n",
        "\n",
        "# スライスの変更をオリジナルのリストの要素も変更されていることに注意\n",
        "print(sample_array)"
      ],
      "metadata": {
        "colab": {
          "base_uri": "https://localhost:8080/"
        },
        "id": "JTXhpeM7KoZx",
        "outputId": "cc7a9b3f-1402-4ec4-a516-071b9bd81a34"
      },
      "execution_count": 5,
      "outputs": [
        {
          "output_type": "stream",
          "name": "stdout",
          "text": [
            "[10 10 10  3  4]\n",
            "[10 10 10  3  4  5  6  7  8  9]\n"
          ]
        }
      ]
    },
    {
      "cell_type": "code",
      "source": [
        "# copyして別のobjectを作成\n",
        "sample_array_copy = np.copy(sample_array)\n",
        "print(sample_array_copy)\n",
        "\n",
        "sample_array_copy[0:3] = 20\n",
        "print(sample_array_copy)\n",
        "\n",
        "# 元のリストの要素は変更されない\n",
        "print(sample_array)"
      ],
      "metadata": {
        "colab": {
          "base_uri": "https://localhost:8080/"
        },
        "id": "O-wBYWGiLWBw",
        "outputId": "9bb8b16c-8d21-43cd-f371-19347666a7c5"
      },
      "execution_count": 6,
      "outputs": [
        {
          "output_type": "stream",
          "name": "stdout",
          "text": [
            "[10 10 10  3  4  5  6  7  8  9]\n",
            "[20 20 20  3  4  5  6  7  8  9]\n",
            "[10 10 10  3  4  5  6  7  8  9]\n"
          ]
        }
      ]
    },
    {
      "cell_type": "code",
      "source": [
        "# データの準備\n",
        "sample_names = np.array(['a', 'b', 'c', 'd', 'a'])\n",
        "random.seed(0)\n",
        "data = random.randn(5, 5)\n",
        "\n",
        "print(sample_names)\n",
        "print(data)"
      ],
      "metadata": {
        "colab": {
          "base_uri": "https://localhost:8080/"
        },
        "id": "Lh1oLYmCL3xK",
        "outputId": "10bd0d90-4742-4257-b7b2-fcc23ff70b71"
      },
      "execution_count": 7,
      "outputs": [
        {
          "output_type": "stream",
          "name": "stdout",
          "text": [
            "['a' 'b' 'c' 'd' 'a']\n",
            "[[ 1.764  0.4    0.979  2.241  1.868]\n",
            " [-0.977  0.95  -0.151 -0.103  0.411]\n",
            " [ 0.144  1.454  0.761  0.122  0.444]\n",
            " [ 0.334  1.494 -0.205  0.313 -0.854]\n",
            " [-2.553  0.654  0.864 -0.742  2.27 ]]\n"
          ]
        }
      ]
    },
    {
      "cell_type": "code",
      "source": [
        "sample_names == 'a'"
      ],
      "metadata": {
        "colab": {
          "base_uri": "https://localhost:8080/"
        },
        "id": "l22xne8sMWrs",
        "outputId": "7cfff813-d0c6-40a4-e772-8fdb2766dc31"
      },
      "execution_count": 8,
      "outputs": [
        {
          "output_type": "execute_result",
          "data": {
            "text/plain": [
              "array([ True, False, False, False,  True])"
            ]
          },
          "metadata": {},
          "execution_count": 8
        }
      ]
    },
    {
      "cell_type": "code",
      "source": [
        "data[sample_names == 'a']"
      ],
      "metadata": {
        "colab": {
          "base_uri": "https://localhost:8080/"
        },
        "id": "zoby28yXMcJY",
        "outputId": "55d95b5c-2818-4e0f-90ca-9e3820135168"
      },
      "execution_count": 9,
      "outputs": [
        {
          "output_type": "execute_result",
          "data": {
            "text/plain": [
              "array([[ 1.764,  0.4  ,  0.979,  2.241,  1.868],\n",
              "       [-2.553,  0.654,  0.864, -0.742,  2.27 ]])"
            ]
          },
          "metadata": {},
          "execution_count": 9
        }
      ]
    },
    {
      "cell_type": "code",
      "source": [
        "# 条件制御のためのブールの配列を作成\n",
        "cond_data = np.array([True, True, False, False, True])\n",
        "\n",
        "# 配列x_arrayを作成\n",
        "x_array = np.array([1, 2, 3, 4, 5])\n",
        "\n",
        "# 配列y_arrayを作成\n",
        "y_array = np.array([100, 200, 300, 400, 500])\n",
        "\n",
        "# 条件制御実施\n",
        "print(np.where(cond_data, x_array, y_array))"
      ],
      "metadata": {
        "colab": {
          "base_uri": "https://localhost:8080/"
        },
        "id": "T_NY2PxKM0WK",
        "outputId": "5f02c475-700f-4f52-aa36-d882e119d66e"
      },
      "execution_count": 10,
      "outputs": [
        {
          "output_type": "stream",
          "name": "stdout",
          "text": [
            "[  1   2 300 400   5]\n"
          ]
        }
      ]
    },
    {
      "cell_type": "code",
      "source": [
        "cond_data = np.array([True, True, False, False, True])\n",
        "\n",
        "# cond_dataを表示\n",
        "print(cond_data)\n",
        "\n",
        "# 重複削除\n",
        "print(np.unique(cond_data))"
      ],
      "metadata": {
        "colab": {
          "base_uri": "https://localhost:8080/"
        },
        "id": "u5xOpnZIN2aW",
        "outputId": "bfeaedaa-e172-4f32-fa94-c7e624bd4e80"
      },
      "execution_count": 11,
      "outputs": [
        {
          "output_type": "stream",
          "name": "stdout",
          "text": [
            "[ True  True False False  True]\n",
            "[False  True]\n"
          ]
        }
      ]
    },
    {
      "cell_type": "code",
      "source": [
        "# ユニバーサル関数\n",
        "sample_data = np.arange(10)\n",
        "print('元のデータ：', sample_data)\n",
        "print('すべての要素の平方根：', np.sqrt(sample_data))\n",
        "print('すべての要素のネイピア指数関数：', np.exp(sample_data))"
      ],
      "metadata": {
        "colab": {
          "base_uri": "https://localhost:8080/"
        },
        "id": "jNiYQI4vOKG_",
        "outputId": "c1c074c9-f820-4ec3-ab12-dad0e1bd48b1"
      },
      "execution_count": 14,
      "outputs": [
        {
          "output_type": "stream",
          "name": "stdout",
          "text": [
            "元のデータ： [0 1 2 3 4 5 6 7 8 9]\n",
            "すべての要素の平方根： [0.    1.    1.414 1.732 2.    2.236 2.449 2.646 2.828 3.   ]\n",
            "すべての要素のネイピア指数関数： [1.000e+00 2.718e+00 7.389e+00 2.009e+01 5.460e+01 1.484e+02 4.034e+02\n",
            " 1.097e+03 2.981e+03 8.103e+03]\n"
          ]
        }
      ]
    },
    {
      "cell_type": "code",
      "source": [
        "# arangeで9つの要素を持つ配列を生成。reshapeで3行3列の行列に再形成\n",
        "sample_multi_array_datal = np.arange(9).reshape(3,3)\n",
        "\n",
        "print(sample_multi_array_datal)\n",
        "\n",
        "print('最小値：', sample_multi_array_datal.min())\n",
        "print('最大値：', sample_multi_array_datal.max())\n",
        "print('平均：', sample_multi_array_datal.mean())\n",
        "print('合計：', sample_multi_array_datal.sum())\n",
        "\n",
        "# 行列を指定して合計値を求める\n",
        "print('行の合計：', sample_multi_array_datal.sum(axis=1))\n",
        "print('列の合計：', sample_multi_array_datal.sum(axis=0))"
      ],
      "metadata": {
        "colab": {
          "base_uri": "https://localhost:8080/"
        },
        "id": "5vM4LyVyO875",
        "outputId": "50f61278-26b9-40c4-93b7-67bf8a191ac9"
      },
      "execution_count": 15,
      "outputs": [
        {
          "output_type": "stream",
          "name": "stdout",
          "text": [
            "[[0 1 2]\n",
            " [3 4 5]\n",
            " [6 7 8]]\n",
            "最小値： 0\n",
            "最大値： 8\n",
            "平均： 4.0\n",
            "合計： 36\n",
            "行の合計： [ 3 12 21]\n",
            "列の合計： [ 9 12 15]\n"
          ]
        }
      ]
    },
    {
      "cell_type": "code",
      "source": [
        "# 真偽値の配列関数\n",
        "cond_data = np.array([True, True, False, False, True])\n",
        "\n",
        "print('Trueが少なくとも1つあるかどうか：', cond_data.any())\n",
        "print('すべてTrueかどうか：', cond_data.all())"
      ],
      "metadata": {
        "colab": {
          "base_uri": "https://localhost:8080/"
        },
        "id": "NOKg7cPAP6_J",
        "outputId": "0c1a9302-b008-4a3b-e36e-22b9981ccdad"
      },
      "execution_count": 16,
      "outputs": [
        {
          "output_type": "stream",
          "name": "stdout",
          "text": [
            "Trueが少なくとも1つあるかどうか： True\n",
            "すべてTrueかどうか： False\n"
          ]
        }
      ]
    },
    {
      "cell_type": "code",
      "source": [
        "sample_multi_array_datal = np.arange(9).reshape(3,3)\n",
        "print(sample_multi_array_datal)\n",
        "print('5より大きい数字がいくつあるか：', (sample_multi_array_datal > 5).sum())"
      ],
      "metadata": {
        "colab": {
          "base_uri": "https://localhost:8080/"
        },
        "id": "P_1kmBRnQabI",
        "outputId": "06aed81a-92d8-4b88-8265-89e4e42ae80b"
      },
      "execution_count": 18,
      "outputs": [
        {
          "output_type": "stream",
          "name": "stdout",
          "text": [
            "[[0 1 2]\n",
            " [3 4 5]\n",
            " [6 7 8]]\n",
            "5より大きい数字がいくつあるか： 3\n"
          ]
        }
      ]
    },
    {
      "cell_type": "code",
      "source": [
        "# 行列計算\n",
        "sample_multi_array_datal = np.arange(9).reshape(3,3)\n",
        "print(sample_multi_array_datal)\n",
        "\n",
        "print('対角成分：', np.diag(sample_multi_array_datal))\n",
        "print('対角成分の和：', np.trace(sample_multi_array_datal))"
      ],
      "metadata": {
        "colab": {
          "base_uri": "https://localhost:8080/"
        },
        "id": "VImXos9jRaqP",
        "outputId": "3889c79d-9925-4159-ec63-0f46ebb6494a"
      },
      "execution_count": 19,
      "outputs": [
        {
          "output_type": "stream",
          "name": "stdout",
          "text": [
            "[[0 1 2]\n",
            " [3 4 5]\n",
            " [6 7 8]]\n",
            "対角成分： [0 4 8]\n",
            "対角成分の和： 12\n"
          ]
        }
      ]
    },
    {
      "cell_type": "code",
      "source": [
        "# データの準備\n",
        "sample_array = np.arange(10)\n",
        "sample_array"
      ],
      "metadata": {
        "colab": {
          "base_uri": "https://localhost:8080/"
        },
        "id": "O9NpAHoaR4MU",
        "outputId": "12e96a68-73a0-4df6-ca3a-71d3cff64630"
      },
      "execution_count": 20,
      "outputs": [
        {
          "output_type": "execute_result",
          "data": {
            "text/plain": [
              "array([0, 1, 2, 3, 4, 5, 6, 7, 8, 9])"
            ]
          },
          "metadata": {},
          "execution_count": 20
        }
      ]
    },
    {
      "cell_type": "code",
      "source": [
        "# 再形成\n",
        "sample_array2 = sample_array.reshape(2,5)\n",
        "sample_array2"
      ],
      "metadata": {
        "colab": {
          "base_uri": "https://localhost:8080/"
        },
        "id": "C6S1s3D2SF4R",
        "outputId": "a6e435cd-f100-48e4-dba5-d4fe80c7060b"
      },
      "execution_count": 21,
      "outputs": [
        {
          "output_type": "execute_result",
          "data": {
            "text/plain": [
              "array([[0, 1, 2, 3, 4],\n",
              "       [5, 6, 7, 8, 9]])"
            ]
          },
          "metadata": {},
          "execution_count": 21
        }
      ]
    },
    {
      "cell_type": "code",
      "source": [
        "sample_array2.reshape(5,2)"
      ],
      "metadata": {
        "colab": {
          "base_uri": "https://localhost:8080/"
        },
        "id": "52tyQUc5SQrF",
        "outputId": "c9a0225c-6296-46f5-cff5-ad2a7a1cde1e"
      },
      "execution_count": 22,
      "outputs": [
        {
          "output_type": "execute_result",
          "data": {
            "text/plain": [
              "array([[0, 1],\n",
              "       [2, 3],\n",
              "       [4, 5],\n",
              "       [6, 7],\n",
              "       [8, 9]])"
            ]
          },
          "metadata": {},
          "execution_count": 22
        }
      ]
    },
    {
      "cell_type": "code",
      "source": [
        "# データの準備\n",
        "sample_array3 = np.array([[1,2,3],[4,5,6]])\n",
        "sample_array4 = np.array([[7,8,9],[10,11,12]])\n",
        "print(sample_array3)\n",
        "print(sample_array4)\n",
        "\n",
        "# 行方向に結合。パラメータのaxisに0を指定\n",
        "np.concatenate([sample_array3, sample_array4], axis=0)"
      ],
      "metadata": {
        "colab": {
          "base_uri": "https://localhost:8080/"
        },
        "id": "cNn1rg29SXKC",
        "outputId": "6186f0ef-3dff-4989-ecdc-36d9578e3e3d"
      },
      "execution_count": 23,
      "outputs": [
        {
          "output_type": "stream",
          "name": "stdout",
          "text": [
            "[[1 2 3]\n",
            " [4 5 6]]\n",
            "[[ 7  8  9]\n",
            " [10 11 12]]\n"
          ]
        },
        {
          "output_type": "execute_result",
          "data": {
            "text/plain": [
              "array([[ 1,  2,  3],\n",
              "       [ 4,  5,  6],\n",
              "       [ 7,  8,  9],\n",
              "       [10, 11, 12]])"
            ]
          },
          "metadata": {},
          "execution_count": 23
        }
      ]
    },
    {
      "cell_type": "code",
      "source": [
        "# vstackを使った行方向結合の方法\n",
        "np.vstack((sample_array3, sample_array4))"
      ],
      "metadata": {
        "colab": {
          "base_uri": "https://localhost:8080/"
        },
        "id": "_MKNz9BsTFDc",
        "outputId": "210c254c-c47d-4d7d-97b1-c59e78d7c5cd"
      },
      "execution_count": 24,
      "outputs": [
        {
          "output_type": "execute_result",
          "data": {
            "text/plain": [
              "array([[ 1,  2,  3],\n",
              "       [ 4,  5,  6],\n",
              "       [ 7,  8,  9],\n",
              "       [10, 11, 12]])"
            ]
          },
          "metadata": {},
          "execution_count": 24
        }
      ]
    },
    {
      "cell_type": "code",
      "source": [
        "# 列方向に統合\n",
        "np.concatenate([sample_array3, sample_array4], axis=1)"
      ],
      "metadata": {
        "colab": {
          "base_uri": "https://localhost:8080/"
        },
        "id": "95VbjxvfTWm3",
        "outputId": "f94c089e-c9f3-402e-8c6d-52c71235670c"
      },
      "execution_count": 25,
      "outputs": [
        {
          "output_type": "execute_result",
          "data": {
            "text/plain": [
              "array([[ 1,  2,  3,  7,  8,  9],\n",
              "       [ 4,  5,  6, 10, 11, 12]])"
            ]
          },
          "metadata": {},
          "execution_count": 25
        }
      ]
    },
    {
      "cell_type": "code",
      "source": [
        "np.hstack((sample_array3, sample_array4))"
      ],
      "metadata": {
        "colab": {
          "base_uri": "https://localhost:8080/"
        },
        "id": "aNvyi--YTev_",
        "outputId": "468d6949-3519-411c-ffb4-e201fd487ca9"
      },
      "execution_count": 26,
      "outputs": [
        {
          "output_type": "execute_result",
          "data": {
            "text/plain": [
              "array([[ 1,  2,  3,  7,  8,  9],\n",
              "       [ 4,  5,  6, 10, 11, 12]])"
            ]
          },
          "metadata": {},
          "execution_count": 26
        }
      ]
    },
    {
      "cell_type": "code",
      "source": [
        "# データの用意\n",
        "sample_array3 = np.array([[1,2,3],[4,5,6]])\n",
        "sample_array4 = np.array([[7,8,9],[10,11,12]])\n",
        "sample_array_vstack = np.vstack((sample_array3, sample_array4))\n",
        "# 作成したデータsample_array_vstackを表示\n",
        "sample_array_vstack"
      ],
      "metadata": {
        "colab": {
          "base_uri": "https://localhost:8080/"
        },
        "id": "JEbWi3c-TjSK",
        "outputId": "ee326335-bd25-4eef-cbaf-928090270dbd"
      },
      "execution_count": 27,
      "outputs": [
        {
          "output_type": "execute_result",
          "data": {
            "text/plain": [
              "array([[ 1,  2,  3],\n",
              "       [ 4,  5,  6],\n",
              "       [ 7,  8,  9],\n",
              "       [10, 11, 12]])"
            ]
          },
          "metadata": {},
          "execution_count": 27
        }
      ]
    },
    {
      "cell_type": "code",
      "source": [
        "# sample_array_vstackを3つに分割し、first、second、tfirdという3つの変数に代入\n",
        "first, second, third = np.split(sample_array_vstack, [1,3])\n",
        "\n",
        "# firstの表示\n",
        "print(first)"
      ],
      "metadata": {
        "colab": {
          "base_uri": "https://localhost:8080/"
        },
        "id": "Vza_Q_HRT70c",
        "outputId": "040dabaa-322e-4819-e2e6-286f299ce230"
      },
      "execution_count": 29,
      "outputs": [
        {
          "output_type": "stream",
          "name": "stdout",
          "text": [
            "[[1 2 3]]\n"
          ]
        }
      ]
    },
    {
      "cell_type": "code",
      "source": [
        "# secondの表示\n",
        "print(second)"
      ],
      "metadata": {
        "colab": {
          "base_uri": "https://localhost:8080/"
        },
        "id": "ylaemm1oUi7R",
        "outputId": "6a1fe38e-3e73-4124-d18c-21cce07e7e1d"
      },
      "execution_count": 30,
      "outputs": [
        {
          "output_type": "stream",
          "name": "stdout",
          "text": [
            "[[4 5 6]\n",
            " [7 8 9]]\n"
          ]
        }
      ]
    },
    {
      "cell_type": "code",
      "source": [
        "# secondの最初の要素を取り出す\n",
        "second[0]"
      ],
      "metadata": {
        "colab": {
          "base_uri": "https://localhost:8080/"
        },
        "id": "uz6XI1VnUpRu",
        "outputId": "c8af974b-4b56-491f-f155-08807961e879"
      },
      "execution_count": 31,
      "outputs": [
        {
          "output_type": "execute_result",
          "data": {
            "text/plain": [
              "array([4, 5, 6])"
            ]
          },
          "metadata": {},
          "execution_count": 31
        }
      ]
    },
    {
      "cell_type": "code",
      "source": [
        "# thirdの表示\n",
        "print(third)"
      ],
      "metadata": {
        "colab": {
          "base_uri": "https://localhost:8080/"
        },
        "id": "gZu3o_4aUzge",
        "outputId": "96f15aff-b8ab-44b7-ede6-8cffabc5b182"
      },
      "execution_count": 32,
      "outputs": [
        {
          "output_type": "stream",
          "name": "stdout",
          "text": [
            "[[10 11 12]]\n"
          ]
        }
      ]
    },
    {
      "cell_type": "code",
      "source": [
        "# データの用意\n",
        "sample_array5 = ([13, 14, 15], [16, 17, 18], [19, 20,21])\n",
        "sample_array_vstack2 = np.vstack((sample_array3, sample_array4, sample_array5))\n",
        "# 元のデータ\n",
        "print(sample_array_vstack2)"
      ],
      "metadata": {
        "colab": {
          "base_uri": "https://localhost:8080/"
        },
        "id": "quQgfZrHU6FG",
        "outputId": "dd2cbf49-1871-4b0d-f900-3127404a1822"
      },
      "execution_count": 33,
      "outputs": [
        {
          "output_type": "stream",
          "name": "stdout",
          "text": [
            "[[ 1  2  3]\n",
            " [ 4  5  6]\n",
            " [ 7  8  9]\n",
            " [10 11 12]\n",
            " [13 14 15]\n",
            " [16 17 18]\n",
            " [19 20 21]]\n"
          ]
        }
      ]
    },
    {
      "cell_type": "code",
      "source": [
        "# sample_array_vstack2を∼2,2,3∼4,5∼の4つに分割しfirst、second、third、forthに代入する\n",
        "first, second, third, forth = np.split(sample_array_vstack2, [2, 3, 5])\n",
        "print('・1つ目：\\n', first, '\\n')\n",
        "print('・2つ目：\\n', second, '\\n')\n",
        "print('・3つ目：\\n', third, '\\n')\n",
        "print('・4つ目：\\n', forth, '\\n')"
      ],
      "metadata": {
        "colab": {
          "base_uri": "https://localhost:8080/"
        },
        "id": "T-qXVXnZVXRX",
        "outputId": "affd937d-f649-4e03-f351-93ef47b4636e"
      },
      "execution_count": 34,
      "outputs": [
        {
          "output_type": "stream",
          "name": "stdout",
          "text": [
            "・1つ目：\n",
            " [[1 2 3]\n",
            " [4 5 6]] \n",
            "\n",
            "・2つ目：\n",
            " [[7 8 9]] \n",
            "\n",
            "・3つ目：\n",
            " [[10 11 12]\n",
            " [13 14 15]] \n",
            "\n",
            "・4つ目：\n",
            " [[16 17 18]\n",
            " [19 20 21]] \n",
            "\n"
          ]
        }
      ]
    },
    {
      "cell_type": "code",
      "source": [
        "first[0]"
      ],
      "metadata": {
        "colab": {
          "base_uri": "https://localhost:8080/"
        },
        "id": "o_yaVpA0WPkZ",
        "outputId": "d046cdc7-e8c9-4a3f-9014-c8e27da95f2c"
      },
      "execution_count": 35,
      "outputs": [
        {
          "output_type": "execute_result",
          "data": {
            "text/plain": [
              "array([1, 2, 3])"
            ]
          },
          "metadata": {},
          "execution_count": 35
        }
      ]
    },
    {
      "cell_type": "code",
      "source": [
        "first[1]"
      ],
      "metadata": {
        "colab": {
          "base_uri": "https://localhost:8080/"
        },
        "id": "JphvSGDhWS-L",
        "outputId": "236c5566-19e9-486e-d463-94dd7e14413b"
      },
      "execution_count": 37,
      "outputs": [
        {
          "output_type": "execute_result",
          "data": {
            "text/plain": [
              "array([4, 5, 6])"
            ]
          },
          "metadata": {},
          "execution_count": 37
        }
      ]
    },
    {
      "cell_type": "code",
      "source": [
        "# repeatを使うと、各要素が指定した回数だけ繰り返されて生成される\n",
        "first.repeat(5)"
      ],
      "metadata": {
        "colab": {
          "base_uri": "https://localhost:8080/"
        },
        "id": "hR0IbDQBWYOx",
        "outputId": "03f1edcf-3f48-4a64-dec6-4287da3b0462"
      },
      "execution_count": 38,
      "outputs": [
        {
          "output_type": "execute_result",
          "data": {
            "text/plain": [
              "array([1, 1, 1, 1, 1, 2, 2, 2, 2, 2, 3, 3, 3, 3, 3, 4, 4, 4, 4, 4, 5, 5,\n",
              "       5, 5, 5, 6, 6, 6, 6, 6])"
            ]
          },
          "metadata": {},
          "execution_count": 38
        }
      ]
    },
    {
      "cell_type": "code",
      "source": [
        "# データの準備\n",
        "sample_array = np.arange(10)\n",
        "print(sample_array)"
      ],
      "metadata": {
        "colab": {
          "base_uri": "https://localhost:8080/"
        },
        "id": "u97dlVK_WnUn",
        "outputId": "235a1d53-41ab-4490-eacc-8bc646a3acb4"
      },
      "execution_count": 39,
      "outputs": [
        {
          "output_type": "stream",
          "name": "stdout",
          "text": [
            "[0 1 2 3 4 5 6 7 8 9]\n"
          ]
        }
      ]
    },
    {
      "cell_type": "code",
      "source": [
        "sample_array + 3"
      ],
      "metadata": {
        "colab": {
          "base_uri": "https://localhost:8080/"
        },
        "id": "78KyJEgkWvy3",
        "outputId": "0ee7117a-5a34-472d-e53a-08d2d12db073"
      },
      "execution_count": 40,
      "outputs": [
        {
          "output_type": "execute_result",
          "data": {
            "text/plain": [
              "array([ 3,  4,  5,  6,  7,  8,  9, 10, 11, 12])"
            ]
          },
          "metadata": {},
          "execution_count": 40
        }
      ]
    }
  ]
}