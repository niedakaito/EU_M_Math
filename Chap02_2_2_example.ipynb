{
  "nbformat": 4,
  "nbformat_minor": 0,
  "metadata": {
    "colab": {
      "provenance": [],
      "toc_visible": true,
      "authorship_tag": "ABX9TyNlGOMEHW8klpRZHuBeD8j5",
      "include_colab_link": true
    },
    "kernelspec": {
      "name": "python3",
      "display_name": "Python 3"
    },
    "language_info": {
      "name": "python"
    }
  },
  "cells": [
    {
      "cell_type": "markdown",
      "metadata": {
        "id": "view-in-github",
        "colab_type": "text"
      },
      "source": [
        "<a href=\"https://colab.research.google.com/github/niedakaito/EU_M_Math/blob/main/Chap02_2_2_example.ipynb\" target=\"_parent\"><img src=\"https://colab.research.google.com/assets/colab-badge.svg\" alt=\"Open In Colab\"/></a>"
      ]
    },
    {
      "cell_type": "code",
      "execution_count": 16,
      "metadata": {
        "colab": {
          "base_uri": "https://localhost:8080/"
        },
        "id": "LNrJ1JKspcQS",
        "outputId": "f45c2cb7-519a-44be-edb1-c0055f41f4f6"
      },
      "outputs": [
        {
          "output_type": "stream",
          "name": "stdout",
          "text": [
            "乱数10個の配列： [ 1.764  0.4    0.979  2.241  1.868 -0.977  0.95  -0.151 -0.103  0.411]\n"
          ]
        }
      ],
      "source": [
        "%precision 3\n",
        "\n",
        "\n",
        "import numpy as np\n",
        "\n",
        "# 配列の作成\n",
        "data = np.array([9, 2, 3, 4, 10, 6, 7, 8, 1, 5])\n",
        "# data\n",
        "\n",
        "\n",
        "# データの型\n",
        "# data.dtype\n",
        "\n",
        "\n",
        "# print('次元数：', data.ndim)\n",
        "# print('要素数：', data.size)\n",
        "\n",
        "\n",
        "# それぞれの数字を係数倍\n",
        "# data*2\n",
        "\n",
        "\n",
        "# print('掛け算：', np.array([1, 2, 3, 4, 5, 6, 7, 8, 9, 10]) * np.array([10, 9, 8, 7, 6, 5, 4, 3, 2, 1]))\n",
        "# print('累乗：', np.array([1, 2, 3, 4, 5, 6, 7, 8, 9, 10]) ** 2)\n",
        "# print('割り算：', np.array([1, 2, 3, 4, 5, 6, 7, 8, 9, 10]) / np.array([10, 9, 8, 7, 6, 5, 4, 3, 2, 1]))\n",
        "\n",
        "\n",
        "# 現在の値を表示\n",
        "# print('そのまま：', data)\n",
        "# ソートした結果を表示\n",
        "# data.sort()\n",
        "# print('ソート後：', data)\n",
        "\n",
        "\n",
        "# data[::-1].sort()\n",
        "# print('ソート後：', data)\n",
        "\n",
        "\n",
        "# 最小値\n",
        "# print('Min：', data.min())\n",
        "# 最大値\n",
        "# print('Max：', data.max())\n",
        "# 合計\n",
        "# print('Sum：', data.sum())\n",
        "# 積み上げ\n",
        "# print('Cum：', data.cumsum())\n",
        "# 積み上げ割合\n",
        "# print('Ratio：', data.cumsum() / data.sum())"
      ]
    }
  ]
}